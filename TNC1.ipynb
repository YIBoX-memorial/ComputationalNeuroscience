{
  "nbformat": 4,
  "nbformat_minor": 0,
  "metadata": {
    "accelerator": "GPU",
    "colab": {
      "name": "TNC1.ipynb",
      "provenance": [],
      "collapsed_sections": [],
      "toc_visible": true,
      "authorship_tag": "ABX9TyMrM+crwGhD7zL+gyJ8ju+x",
      "include_colab_link": true
    },
    "kernelspec": {
      "display_name": "Python 3",
      "name": "python3"
    }
  },
  "cells": [
    {
      "cell_type": "markdown",
      "metadata": {
        "id": "view-in-github",
        "colab_type": "text"
      },
      "source": [
        "<a href=\"https://colab.research.google.com/github/YIBoX-memorial/ComputationalNeuroscience/blob/master/TNC1.ipynb\" target=\"_parent\"><img src=\"https://colab.research.google.com/assets/colab-badge.svg\" alt=\"Open In Colab\"/></a>"
      ]
    },
    {
      "cell_type": "markdown",
      "metadata": {
        "id": "aEg-MToxHr5m"
      },
      "source": [
        "# Theoretical Neuroscience Chapter 1 Exercise\n",
        "\n",
        "The exercise contains 10 problems."
      ]
    },
    {
      "cell_type": "markdown",
      "metadata": {
        "id": "sZ86GFQsH84A"
      },
      "source": [
        "# Packages"
      ]
    },
    {
      "cell_type": "code",
      "metadata": {
        "id": "tQJGgGjKGgKk",
        "outputId": "59056041-3e69-4136-bcbb-f01e1c064662",
        "colab": {
          "base_uri": "https://localhost:8080/"
        }
      },
      "source": [
        "import scipy.io\n",
        "# mat = scipy.io.loadmat('c1p8.mat')\n",
        "from math import exp\n",
        "from math import log\n",
        "from math import cos\n",
        "from math import sin\n",
        "from math import pi\n",
        "from math import ceil\n",
        "import numpy as np\n",
        "# import cupy as cp\n",
        "import matplotlib.pyplot as plt\n",
        "! nvidia-smi"
      ],
      "execution_count": 40,
      "outputs": [
        {
          "output_type": "stream",
          "text": [
            "NVIDIA-SMI has failed because it couldn't communicate with the NVIDIA driver. Make sure that the latest NVIDIA driver is installed and running.\n",
            "\n"
          ],
          "name": "stdout"
        }
      ]
    },
    {
      "cell_type": "markdown",
      "metadata": {
        "id": "gjR84oTqYMPE"
      },
      "source": [
        "# Time bin"
      ]
    },
    {
      "cell_type": "code",
      "metadata": {
        "id": "AwPKReR1YO0E"
      },
      "source": [
        "class CST:\n",
        "    __delta__ = 0.002 # s\n",
        "    __GPU = False\n",
        "    def __init(self):\n",
        "        pass\n",
        "    @classmethod\n",
        "    def delta(cls):\n",
        "        return cls.__delta__\n",
        "    @classmethod\n",
        "    def GPU(cls):\n",
        "        return cls.__GPU\n",
        "\n",
        "def pos(x):\n",
        "    return int(x / CST.delta())\n",
        "\n",
        "def s2ms(x):\n",
        "    return 1000*x\n",
        "\n",
        "def ms2s(x):\n",
        "    return x/1000.0"
      ],
      "execution_count": 41,
      "outputs": []
    },
    {
      "cell_type": "markdown",
      "metadata": {
        "id": "ZXeROj8C05wo"
      },
      "source": [
        "# Function\n",
        "\n",
        "Return function value at \\\\(f(t)\\\\)."
      ]
    },
    {
      "cell_type": "code",
      "metadata": {
        "id": "1bvNn86s1COl"
      },
      "source": [
        "class Func:\n",
        "    def __init__(self, *args, **kwargs):\n",
        "        pass\n",
        "    def value(self, x:float=0.0, *args, **kwargs):\n",
        "        pass\n",
        "    def __call__(self, input, *args, **kwargs):\n",
        "        return self.value(input)\n",
        "\n",
        "class Const(Func):\n",
        "    def __init__(self, value:float=0.0, *args, **kwargs):\n",
        "        self.__value = value\n",
        "    def value(self, x:float=0.0, *args, **kwargs):\n",
        "        return self.__value\n",
        "\n",
        "class Refractory_Func(Func):\n",
        "    def __init__(self, r0:float=0.0, ref_period:float=1.0, *args, **kwargs):\n",
        "        self.__r0 = r0\n",
        "        self.__ref_period = ref_period\n",
        "    def value(self, x:float=0.0, *args, **kwargs):\n",
        "        try:\n",
        "            return self.__r0 * ( 1 - exp(-x/self.__ref_period) )\n",
        "        except:\n",
        "            print('x: ', x)\n",
        "\n"
      ],
      "execution_count": 42,
      "outputs": []
    },
    {
      "cell_type": "code",
      "metadata": {
        "id": "r-DUpg0UXR7J",
        "outputId": "5730f6ff-2b9c-4c1f-a2a4-900ebe02e0c5",
        "colab": {
          "base_uri": "https://localhost:8080/"
        }
      },
      "source": [
        "a=np.zeros(10)\n",
        "#print(type(a[0:1].mean()))\n",
        "print(np.subtract(a, 1))\n",
        "class PP:\n",
        "    __fff = 31\n",
        "    def __init__(self):\n",
        "        self.__fff = 30\n",
        "        return\n",
        "    def pp(self, fff=__fff):\n",
        "        return (self.__fff, fff)\n"
      ],
      "execution_count": 43,
      "outputs": [
        {
          "output_type": "stream",
          "text": [
            "[-1. -1. -1. -1. -1. -1. -1. -1. -1. -1.]\n"
          ],
          "name": "stdout"
        }
      ]
    },
    {
      "cell_type": "code",
      "metadata": {
        "id": "-vPApECtklgP"
      },
      "source": [
        "# a = cp.ones(10000)\n",
        "# b = cp.arange(10000)\n",
        "# b = cb.repeat(2)\n",
        "# c = cp.multiply(ca[0:1000], cb[1:1001])\n",
        "# rint(cp.random.uniform(low=0.0, high=1.0) < 1.0)\n",
        "# rint(cb)"
      ],
      "execution_count": 44,
      "outputs": []
    },
    {
      "cell_type": "markdown",
      "metadata": {
        "id": "VV07iWHjVZfE"
      },
      "source": [
        "# Spike Sequence"
      ]
    },
    {
      "cell_type": "code",
      "metadata": {
        "id": "sRbvocrIVZGH"
      },
      "source": [
        "class SpikeS:\n",
        "    def __init__(self, low:float=0.0, high:float=1.0, events=np.zeros(1), *args, **kwargs):\n",
        "        self.__low = low\n",
        "        self.__high = high\n",
        "        if CST.GPU() and isinstance(events, np.ndarray):\n",
        "            self.__events = cp.asarray(events)\n",
        "        else:\n",
        "            self.__events = events\n",
        "    def get_bound(self):\n",
        "        return (self.__low, self.__high)\n",
        "    def get_size(self):\n",
        "        return self.__events.size\n",
        "    def firing_rate(self, time:float=0.0):\n",
        "        if time < self.__low or time > self.__high:\n",
        "            raise IndexError(\"Error Index for time!\")\n",
        "        x = pos(time - self.__low)\n",
        "        return self.__events[x]\n",
        "    def firing_rate(self, low:float=0.0, high:float=-1.0):\n",
        "        if high < low:\n",
        "            high = self.__high\n",
        "        l = pos(low - self.__low)\n",
        "        h = pos(high - self.__low)\n",
        "        if low < self.__low or low > self.__high:\n",
        "            raise IndexError(\"Error Index for low!\")\n",
        "        if high < self.__low or high > self.__high:\n",
        "            raise IndexError(\"Error Index for high!\")\n",
        "        if l > h:\n",
        "            raise IndexError(\"l > h !!!\")\n",
        "        return self.__events[l:h]\n",
        "    def mean(self, low:float=0.0, high:float=-1.0, *args, **kwargs):\n",
        "        if high < low:\n",
        "            high = self.__high\n",
        "        l = pos(low - self.__low)\n",
        "        h = pos(high - self.__low)\n",
        "        return self.__events[l:h].mean()\n",
        "    def pure(self, low:float=0.0, high:float=-1.0, *args, **kwargs):\n",
        "        if high < low:\n",
        "            high = self.__high\n",
        "        l = pos(low - self.__low)\n",
        "        h = pos(high - self.__low)\n",
        "        if CST.GPU():\n",
        "            ret = cp.subtract( self.__events[l:h], self.__events[l:h].mean() )\n",
        "        else:\n",
        "            ret = np.subtract( self.__events[l:h], self.__events[l:h].mean() )\n",
        "        return SpikeS(low, high, ret)\n",
        "    def count_dis(self, assigned:int=-1, *args, **kwargs):\n",
        "        ret = np.zeros( pos(self.__high - self.__low) )\n",
        "        last_index = -1\n",
        "        max_interval = 0\n",
        "        events = self.__events\n",
        "        if CST.GPU() and isinstance(events, cp.ndarray):\n",
        "            events = cp.asnumpy(events)\n",
        "        for (index, value) in enumerate(events):\n",
        "            if value == 1.0:\n",
        "                ret[index - last_index] = ret[index - last_index] + 1\n",
        "                # print(index - last_index)\n",
        "                max_interval = max(max_interval, index - last_index)\n",
        "                last_index = index\n",
        "        if assigned != -1:\n",
        "            max_interval = assigned\n",
        "        else:\n",
        "            max_interval = max_interval + 1\n",
        "        return ret[:max_interval]\n",
        "    def print(self, *args, **kwargs):\n",
        "        print('SpikeS: \\n')\n",
        "        print('\\tlow:', self.__low, 'high: ', self.__high, '\\nevents: ', self.__events)\n",
        "\n",
        "\n",
        "# spike 1, spike 2, difference\n",
        "def correlation(s1, s2, d):\n",
        "    (s1_l, s1_h) = s1.get_bound()\n",
        "    s1 = s1.firing_rate(s1_l, s1_h)\n",
        "    (s2_l, s2_h) = s2.get_bound()\n",
        "    s2 = s2.firing_rate(s2_l, s2_h)\n",
        "    d = ( (pos(d) % s2.size) + s2.size) % s2.size\n",
        "    times = ceil((s1_h-s1_l) / (s2_h-s2_l)) + 2\n",
        "    ret = 0.0\n",
        "    if CST.GPU():\n",
        "        if isinstance(s1, np.ndarray):\n",
        "            s1 = cp.asarray(s1)\n",
        "        if isinstance(s2, np.ndarray):\n",
        "            s2 = cp.asarray(s2)\n",
        "        s2 = cp.tile(s2, times)\n",
        "        ret = cp.sum( cp.multiply(s1, s2[d:d+s1.size]) )\n",
        "    else:\n",
        "        s2 = np.tile(s2, times)\n",
        "        ret = np.sum( np.multiply(s1, s2[d:d+s1.size]) )\n",
        "    ret = ret / (CST.delta()*s1.size)\n",
        "    return ret\n",
        "\n",
        "def distance(s1, s2):\n",
        "    (s1_l, s1_h) = s1.get_bound()\n",
        "    s1 = s1.firing_rate(s1_l, s1_h)\n",
        "    (s2_l, s2_h) = s2.get_bound()\n",
        "    s2 = s2.firing_rate(s2_l, s2_h)\n",
        "    if s1_l != s2_l or s1_h != s2_h:\n",
        "        raise IndexError('Inequal sequences!')\n",
        "    if CST.GPU():\n",
        "        if isinstance(s1, np.ndarray):\n",
        "            s1 = cp.asarray(s1)\n",
        "        if isinstance(s2, np.ndarray):\n",
        "            s2 = cp.asarray(s2)\n",
        "        ret = cp.sum( cp.multiply(s1-s2, s1-s2) )\n",
        "    else:\n",
        "        ret = np.sum( np.multiply(s1-s2, s1-s2) )\n",
        "    return ret"
      ],
      "execution_count": 45,
      "outputs": []
    },
    {
      "cell_type": "markdown",
      "metadata": {
        "id": "yPc0SfslLAb3"
      },
      "source": [
        "# Poisson Generator\n",
        "\n",
        "Homogeneous and inhomogeneous generator."
      ]
    },
    {
      "cell_type": "code",
      "metadata": {
        "id": "S4HLbdiFNCpx"
      },
      "source": [
        "class Generator:\n",
        "    __valid_types = ['normal', 'Poisson', 'uniform']\n",
        "    def __init__(self, dtype:str='None', *args, **kwargs):\n",
        "        flag = False\n",
        "        if type != 'None':\n",
        "            for type_i in self.__valid_types:\n",
        "                if type_i == type_i:\n",
        "                    flag = True\n",
        "                    break\n",
        "        if flag == False:\n",
        "            raise TypeError(\"Invalid Distribution Types!\")\n",
        "    def output(self, *args, **kwargs):\n",
        "        pass\n",
        "\n",
        "# Poisson Generator generates interval length between 2 events\n",
        "class Poisson_Generator(Generator):\n",
        "    def __init__(self, dtype:str='Poisson', rate:float=1.0, rmap=None, *args, **kwargs):\n",
        "        super().__init__(dtype)\n",
        "        self.__rate = rate\n",
        "        if rmap == None:\n",
        "            rmap = Const(value=rate)\n",
        "        self.__rmap = rmap\n",
        "    def reset(self, rate:float=1.0, rmap=None, *args, **kwargs):\n",
        "        self.__rate = rate\n",
        "        if rmap != None:\n",
        "            self.__rmap = rmap\n",
        "    # here, next function generates the next spike time\n",
        "    def next(self, *args, **kwargs) -> float:\n",
        "        return -log(np.random.uniform(low=0.0, high=1.0))/self.__rate\n",
        "    def thin(self, x:float=0.0, rate=Const(), *args, **kwargs) -> bool:\n",
        "        if np.random.uniform(low=0.0, high=1.0) < rate(x)/self.__rate:\n",
        "            return True\n",
        "        return False\n",
        "    def output(self, low:float=0.0, high:float=10.0, *args, **kwargs):\n",
        "        s = np.zeros(shape=pos(high-low), dtype=float)\n",
        "        # high = high - CST.delta()\n",
        "        current = low\n",
        "        while current < high:\n",
        "            # print('next: ', self.next())\n",
        "            current = current + self.next()\n",
        "            if current > high:\n",
        "                break\n",
        "            s[pos(current - low)] = 1.0\n",
        "        for (index, value) in enumerate(s):\n",
        "            if value == 1.0:\n",
        "                if self.thin(x=index*CST.delta()-low, rate=self.__rmap) == False:\n",
        "                    s[index] = 0.0\n",
        "        ret = SpikeS(low, high, s)\n",
        "        return ret\n",
        "\n",
        "class Refractory_Generator(Generator):\n",
        "    def __init__(self, dtype:str='Poisson', rate:float=1.0, rmap=None, ref:bool=True, *args, **kwargs):\n",
        "        super().__init__(dtype)\n",
        "        self.__rate = rate\n",
        "        if rmap == None:\n",
        "            rmap = Const(value=rate)\n",
        "        self.__rmap = rmap\n",
        "        self.__last_spike = -100.0\n",
        "        self.__ref = ref\n",
        "    def reset(self, rate:float=-1.0, rmap=None, ref:bool=True, *args, **kwargs):\n",
        "        if rmap != None:\n",
        "            self.__rmap = rmap\n",
        "        if rate >= 0:\n",
        "            self.__rate = rate\n",
        "        self.__last_spike = -100.0\n",
        "        self.__ref = ref\n",
        "    # here, value function generates the potential of next interval\n",
        "    def value(self, time:float=0.0, *args, **kwargs):\n",
        "        if np.random.uniform(low=0.0, high=1.0) < self.__rmap(time) * CST.delta():\n",
        "            return 1.0\n",
        "        return 0.0\n",
        "    def output(self, low:float=0.0, high:float=1.0, *args, **kwargs):\n",
        "        s = np.zeros(shape=pos(high-low), dtype=float)\n",
        "        high = high - CST.delta()\n",
        "        for current in np.arange(low, high, CST.delta()):\n",
        "            s[ pos(current - low) ] = self.value(current - self.__last_spike)\n",
        "            # print('current: ', current, 'last: ', self.__last_spike, 'value: ', self.value(current - self.__last_spike)*CST.delta())\n",
        "            if self.__ref == True and s[ pos(current - low) ] > 0:\n",
        "                self.__last_spike = current\n",
        "        ret = SpikeS(low, high, s)\n",
        "        return ret\n"
      ],
      "execution_count": 46,
      "outputs": []
    },
    {
      "cell_type": "markdown",
      "metadata": {
        "id": "Irdt20ljQ5F4"
      },
      "source": [
        "# Problem 1\n",
        "Generate spikes for \\\\(10\\\\) s (or longer if you want better statistics) using\n",
        "a Poisson spike generator with a constant rate of \\\\(100\\\\) Hz, and record their times of occurrence. Compute the coeffcient of variation of the interspike intervals, and the Fano factor for spike counts obtained over counting intervals ranging from \\\\(1\\\\) to \\\\(100\\\\) ms. Plot the interspike interval histogram.\n",
        "\n",
        "First, the coefficient of variation\n",
        "\\\\(C_V=\\frac{\\sigma_\\tau}{\\langle\\tau\\rangle}=\\frac{1}{r}\\\\), where \\\\(r\\\\) is the constant firing rate.\n",
        "\n",
        "Second, the Fano factor is \\\\(\\frac{\\sigma_n^2}{\\langle n\\rangle}=\\frac{\\langle r\\rangle T}{\\langle r\\rangle T}=1\\\\)"
      ]
    },
    {
      "cell_type": "code",
      "metadata": {
        "id": "jO8vYw4PTnA8",
        "outputId": "18e4696a-e88a-4ba8-9665-b0ac67079757",
        "colab": {
          "base_uri": "https://localhost:8080/",
          "height": 370
        }
      },
      "source": [
        "class P1:\n",
        "    __TL = s2ms(0.0)\n",
        "    __TH = s2ms(10.0)\n",
        "    __rate = 100.0\n",
        "    __gen = Poisson_Generator(rate = __rate)\n",
        "    def __init__(self):\n",
        "        pass\n",
        "    def __process(self):\n",
        "        sq = self.__gen.output(low=self.__TL, high=self.__TH)\n",
        "        sq.print()\n",
        "        # print(sq.count_dis(assigned=10))\n",
        "        plt.bar(np.arange(100, step=2), sq.count_dis(assigned=50))\n",
        "        plt.xlabel('Interspike interval (ms)')\n",
        "        plt.ylabel('Probability')\n",
        "        plt.title('Histogram of intervals')\n",
        "        # plt.text(60, .025, r'$\\mu=100,\\ \\sigma=15$')\n",
        "        # plt.axis([40, 160, 0, 0.03])\n",
        "        # plt.grid(True)\n",
        "        plt.show()\n",
        "    def __call__(self):\n",
        "        self.__process()\n",
        "\n",
        "W1 = P1()\n",
        "W1()"
      ],
      "execution_count": null,
      "outputs": [
        {
          "output_type": "stream",
          "text": [
            "SpikeS: \n",
            "\n",
            "\tlow: 0.0 high:  10000.0 \n",
            "events:  [0. 0. 0. ... 0. 1. 0.]\n"
          ],
          "name": "stdout"
        },
        {
          "output_type": "display_data",
          "data": {
            "image/png": "[encoded data removed]",
            "text/plain": [
              "<Figure size 432x288 with 1 Axes>"
            ]
          },
          "metadata": {
            "tags": [],
            "needs_background": "light"
          }
        }
      ]
    },
    {
      "cell_type": "markdown",
      "metadata": {
        "id": "NpIRKmaXT_7r"
      },
      "source": [
        "# Problem 2\n",
        "\n",
        "Add a refractory period to the Poisson spike generator by allowing the firing rate to depend on time. Initially, set the firing rate to a constant value, \\\\(r(t) = r_0\\\\). After every spike, set \\\\(r(t)\\\\) to \\\\(0\\\\), and then allow it to recover exponentially back to \\\\(r_0\\\\) with a time constant \u001cref that controls the refractory recovery rate. In other words, have \\\\(r(t)\\\\) obey the equation\n",
        "\n",
        "\\\\(\\tau_\\text{ref}\\frac{\\text{d}\\ r}{\\text{d}\\ t}=r_0-r\\\\)\n",
        "\n",
        "except immediately after a spike, when it is set to \\\\(0\\\\). Plot the coefficient of variation as a function of \u001cref over the range \\\\(1\\text{ms}\\leq\\tau_\\text{\u001cref}\\leq 20 \\text{ms}\\\\), and plot interspike interval histograms for a few different values of \u001cref in this range. Compute the Fano factor for spike counts obtained over counting intervals ranging from \\\\(1\\\\) to \\\\(100 \\text{ms}\\\\) for the case \\\\(\\tau_\\text{\u001cref}=10\\text{ms}\\\\).\n",
        "\n",
        "Figuring the differential equation, wee have the expression of \\\\(r\\\\)\n",
        "\n",
        "\\\\(r(t)=r_0(1-e^{-\\frac{t}{\\tau_\\text{ref}}})\\\\)\n"
      ]
    },
    {
      "cell_type": "code",
      "metadata": {
        "id": "9Q3-9YMT2CXJ",
        "outputId": "a3aba6f7-b0cb-4a48-e318-7552bf3987a6",
        "colab": {
          "base_uri": "https://localhost:8080/",
          "height": 370
        }
      },
      "source": [
        "\n",
        "class P2:\n",
        "    __TL = s2ms(0.0)\n",
        "    __TH = s2ms(10.0)\n",
        "    __rate = 100.0\n",
        "    __gen = Refractory_Generator(rate=__rate, rmap=Refractory_Func(r0=__rate, ref_period=0.01))\n",
        "    __total_steps = 50\n",
        "    def __init__(self):\n",
        "        pass\n",
        "    def __process(self):\n",
        "        sq = self.__gen.output(low=self.__TL, high=self.__TH)\n",
        "        sq.print()\n",
        "        plt.bar(np.arange(self.__total_steps*2, step=2), sq.count_dis(assigned=self.__total_steps))\n",
        "        plt.xlabel('Interspike interval (ms)')\n",
        "        plt.ylabel('Probability')\n",
        "        plt.title('Histogram of intervals')\n",
        "        plt.show()\n",
        "    def __call__(self):\n",
        "        self.__process()\n",
        "\n",
        "W2 = P2()\n",
        "W2()"
      ],
      "execution_count": null,
      "outputs": [
        {
          "output_type": "stream",
          "text": [
            "SpikeS: \n",
            "\n",
            "\tlow: 0.0 high:  9999.998 \n",
            "events:  [0. 0. 0. ... 0. 0. 0.]\n"
          ],
          "name": "stdout"
        },
        {
          "output_type": "display_data",
          "data": {
            "image/png": "[encoded data removed]",
            "text/plain": [
              "<Figure size 432x288 with 1 Axes>"
            ]
          },
          "metadata": {
            "tags": [],
            "needs_background": "light"
          }
        }
      ]
    },
    {
      "cell_type": "markdown",
      "metadata": {
        "id": "iASLFmKoAwDk"
      },
      "source": [
        "# Problem 3\n",
        "\n",
        "Compute autocorrelation histograms of spike trains generated by a Poisson generator with a constant firing rate of \\\\(100 \\text{Hz}\\\\), a constant firing rate of \\\\(100\\\\) Hz together with a refractory period modeled as in exercise 2 with \\\\(\\tau_\\text{\u001cref}=10\\text{ms}\\\\), and a variable firing rate \\\\(r(t) = 100(1 + \\cos(2\u0019\\pi t/25 \\text{ms}))\\text{Hz}\\\\). Plot the histograms over a range from \\\\(0\\\\) to \\\\(100\\text{ms}\\\\).\n"
      ]
    },
    {
      "cell_type": "code",
      "metadata": {
        "id": "LssqOafGBXQw",
        "outputId": "03c728ea-7431-4706-fc8e-1f5cdb2c68d9",
        "colab": {
          "base_uri": "https://localhost:8080/",
          "height": 762
        }
      },
      "source": [
        "\n",
        "class COSF(Func):\n",
        "    def __init__(self, *args, **kwargs):\n",
        "        super().__init__()\n",
        "    def value(self, x:float=0.0, *args, **kwargs):\n",
        "        return 100*(1+cos(2*pi*x/25 * 1000))\n",
        "\n",
        "class P3:\n",
        "    __TL = s2ms(0.0)\n",
        "    __TH = s2ms(10.0)\n",
        "    __rate1 = 100.0\n",
        "    __rate2 = 200.0\n",
        "    __gen1 = Refractory_Generator( rate=__rate1, rmap=Refractory_Func(r0=__rate1, ref_period=0.01) )\n",
        "    __gen2 = Poisson_Generator( rate=__rate2, rmap=COSF() )\n",
        "    __total_steps = 50\n",
        "    __total_trials = 10\n",
        "    def __init__(self):\n",
        "        pass\n",
        "    def __process(self):\n",
        "        # print('---- step 1 ----')\n",
        "        self.__gen1.reset( rate=self.__rate1, rmap=Refractory_Func(r0=self.__rate1, ref_period=0.01) )\n",
        "        self.__gen2.reset( rate=self.__rate2, rmap=COSF() )\n",
        "        # print('---- step 2 ----')\n",
        "        sq1 = self.__gen1.output(low=self.__TL, high=self.__TH)\n",
        "        sq2 = self.__gen2.output(low=self.__TL, high=self.__TH)\n",
        "        # print('---- step 3 ----')\n",
        "        auto_co1 = np.zeros(self.__total_steps)\n",
        "        auto_co2 = np.zeros(self.__total_steps)\n",
        "        if CST.GPU():\n",
        "            auto_co1 = cp.asarray(auto_c1)\n",
        "            auto_co2 = cp.asarray(auto_c2)\n",
        "        # print('---- step 4 ----')\n",
        "        for dist in np.arange(self.__total_steps*CST.delta(), step=CST.delta()):\n",
        "            auto_co1[pos(dist)] = correlation(sq1.pure(), sq1.pure(), dist - self.__total_steps*CST.delta()/2)\n",
        "            auto_co2[pos(dist)] = correlation(sq2.pure(), sq2.pure(), dist - self.__total_steps*CST.delta()/2)\n",
        "        # print('---- step 5 ----')\n",
        "        return (auto_co1, auto_co2)\n",
        "    def __plot(self, number, sq):\n",
        "        if CST.GPU():\n",
        "            if isinstance(sq, cp.ndarray):\n",
        "                sq = cp.asnumpy(sq)\n",
        "        # print('k1: ', np.arange(-self.__total_steps*s2ms(CST.delta())/2, self.__total_steps*s2ms(CST.delta())/2, step=s2ms(CST.delta())))\n",
        "        # print('k2: ', np.arange(self.__total_steps*s2ms(CST.delta()), step=s2ms(CST.delta())))\n",
        "        plt.bar( np.arange(-self.__total_steps*s2ms(CST.delta())/2, self.__total_steps*s2ms(CST.delta())/2, step=s2ms(CST.delta()) ), sq[0:self.__total_steps])\n",
        "        plt.xlabel('Interspike interval (ms)')\n",
        "        plt.ylabel('Probability')\n",
        "        plt.title('Histogram of autocorrelation %d' % number)\n",
        "        plt.show()\n",
        "    def __call__(self):\n",
        "        sq1 = np.zeros(self.__total_steps)\n",
        "        sq2 = np.zeros(self.__total_steps)\n",
        "        if CST.GPU():\n",
        "            sq1 = cp.asarray(sq1)\n",
        "            sq2 = cp.asarray(sq2)\n",
        "        for iter in range(self.__total_trials):\n",
        "            print('epoch: ', iter)\n",
        "            (t1, t2) = self.__process()\n",
        "            if CST.GPU():\n",
        "                sq1 = cp.add(sq1, t1)\n",
        "                sq2 = cp.add(sq2, t2)\n",
        "            else:\n",
        "                sq1 = np.add(sq1, t1)\n",
        "                sq2 = np.add(sq2, t2)\n",
        "        sq1 = sq1 / self.__total_trials\n",
        "        sq2 = sq2 / self.__total_trials\n",
        "        self.__plot(1, sq1)\n",
        "        self.__plot(2, sq2)\n",
        "\n",
        "W3 = P3()\n",
        "W3()"
      ],
      "execution_count": null,
      "outputs": [
        {
          "output_type": "stream",
          "text": [
            "epoch:  0\n",
            "epoch:  1\n",
            "epoch:  2\n",
            "epoch:  3\n",
            "epoch:  4\n",
            "epoch:  5\n",
            "epoch:  6\n",
            "epoch:  7\n",
            "epoch:  8\n",
            "epoch:  9\n"
          ],
          "name": "stdout"
        },
        {
          "output_type": "display_data",
          "data": {
            "image/png": "[encoded data removed]",
            "text/plain": [
              "<Figure size 432x288 with 1 Axes>"
            ]
          },
          "metadata": {
            "tags": [],
            "needs_background": "light"
          }
        },
        {
          "output_type": "display_data",
          "data": {
            "image/png": "[encoded data removed]",
            "text/plain": [
              "<Figure size 432x288 with 1 Axes>"
            ]
          },
          "metadata": {
            "tags": [],
            "needs_background": "light"
          }
        }
      ]
    },
    {
      "cell_type": "markdown",
      "metadata": {
        "id": "4WV1Yf_LjxiT"
      },
      "source": [
        "# Problem 4\n",
        "\n",
        "Generate a Poisson spike train with a time-dependent firing rate \\\\(r(t)=100(1+\\cos(2\u0019\\pi t/300 ms))\\text{Hz}\\\\). Approximate the firing rate from this spike train using a variable \\\\(r_\\text{approx}\\\\) that satisfies\n",
        "\n",
        "\\\\(\\tau_\\text{\u001capprox}\\frac{d\\ r_\\text{approx}}{d\\ t} =  -r_\\text{approx}\\\\)\n",
        "\n",
        "except that \\\\(r_\\text{approx}\\rightarrow r_\\text{approx}+1/\\tau_\\text{\u001capprox}\\\\) every time a spike occurs. Make plots of the true rate, the spike sequence generated, and the estimated rate. Experiment with a few di erent values of \u001capprox in the range of \\\\(1\\\\) to \\\\(100\\\\) ms. Determine the best value R of \u001capprox by computing the average squared error of the estimate, \\\\(\\int dt\\ (r(t)-r_\\text{approx}(t))^2\\\\), for different values of \u001c\\\\(\\tau_\\text{approx}\\\\) , and finding the value of \\\\(\\tau_\\text{\u001capprox}\\\\) that minimizes this error.\n",
        "\n",
        "Solving the differential equation, we have\n",
        "\n",
        "\\\\(r_\\text{approx}=\\exp(-\\frac{t}{\\tau_\\text{approx}})\\\\)\n",
        "\n",
        "However, I don't really get the author's intention, so this problem is left here.\n"
      ]
    },
    {
      "cell_type": "code",
      "metadata": {
        "id": "wRIXyXBtV4vP"
      },
      "source": [
        "\n",
        "class FR_P4(Func):\n",
        "    def __init__(self, ref_period:float=1.0, *args, **kwargs):\n",
        "        self.__r0 = r0\n",
        "        self.__ref_period = ref_period\n",
        "    def value(self, x:float=0.0, *args, **kwargs):\n",
        "        try:\n",
        "            return exp(- x / self.__ref_period)\n",
        "        except:\n",
        "            print('x: ', x)"
      ],
      "execution_count": null,
      "outputs": []
    },
    {
      "cell_type": "markdown",
      "metadata": {
        "id": "87VK1Myg1szJ"
      },
      "source": [
        " # Problem 5\n",
        "\n",
        "For a constant rate Poisson process, every specific (up to a finite resolution) sequence of \\\\(N\\\\) spikes occurring over a given time interval is equally likely. This seems paradoxical because we certainly do not expect to see all \\\\(N\\\\) spikes appearing within the first \\\\(1\\%\\\\) of the time interval. Resolve this paradox.\n",
        "\n",
        "\\\\(P_{1\\%T}(N)=\\frac{\\exp(-\\frac{rT}{100})(\\frac{rT}{100})^{N}}{N!}\\\\)\n",
        "\n",
        "\\\\(P_{T}(N)=\\frac{\\exp(-{rT})(rT)^{N}}{N!}\\\\)\n",
        "\n",
        "\\\\(\\frac{P_{1\\%T}}{P_T}=\\frac{\\exp(-rT/100)}{100^N\\exp(-rT)}\\\\)\n"
      ]
    },
    {
      "cell_type": "markdown",
      "metadata": {
        "id": "S74uBR-WQZCH"
      },
      "source": [
        "# Problem 6\n",
        "\n",
        "Build an approximate white-noise stimulus by choosing random values at discrete times separated by a time-step interval \u0001\\\\(\\Delta t\\\\). Plot its autocorrelation function and power spectrum (use the matlab function spe trum or psd). Discuss how well this stimulus matches an ideal white-noise stimulus given the value of \u0001\\\\(\\Delta t\\\\) you used.\n"
      ]
    },
    {
      "cell_type": "code",
      "metadata": {
        "id": "CKJla95d1sZ2",
        "outputId": "bd966f0f-7000-4fb8-adf1-680da8ccb37e",
        "colab": {
          "base_uri": "https://localhost:8080/",
          "height": 295
        }
      },
      "source": [
        "class Normal_Generator(Generator):\n",
        "    def __init__(self, dtype:str='normal', mean:float=0.0, deviation:float=1.0, *args, **kwargs):\n",
        "        super().__init__(dtype)\n",
        "        self.__mean=mean\n",
        "        self.__deviation=deviation\n",
        "    def value(self, *args, **kwargs):\n",
        "        # print(self.__mean, self.__deviation, args)\n",
        "        return np.random.normal(self.__mean, self.__deviation, args)\n",
        "    def output(self, low:float=0.0, high:float=1.0, *args, **kwargs):\n",
        "        s = np.random.normal(self.__mean, self.__deviation, pos(high-low))\n",
        "        ret = SpikeS(low, high, s)\n",
        "        return ret\n",
        "\n",
        "class P6:\n",
        "    __TL = s2ms(0.0)\n",
        "    __TH = s2ms(10.0)\n",
        "    __deviation = 1.0\n",
        "    __total_steps = 50\n",
        "    __gen = Normal_Generator(mean=0.0, deviation=__deviation/CST.delta())\n",
        "    def __init__(self, *args, **kwargs):\n",
        "        pass\n",
        "    def __process(self, *args, **kwargs):\n",
        "        sq = self.__gen.output(self.__TL, self.__TH)\n",
        "        ret = np.zeros(self.__total_steps)\n",
        "        for dist in np.arange(self.__total_steps*CST.delta(), step=CST.delta()):\n",
        "            ret[pos(dist)] = correlation(sq, sq, dist - self.__total_steps*CST.delta()/2)\n",
        "        return ret\n",
        "    def __plot(self, sq, *args, **kwargs):\n",
        "        if CST.GPU():\n",
        "            if isinstance(sq, cp.ndarray):\n",
        "                sq = cp.asnumpy(sq)\n",
        "        plt.bar( np.arange(-self.__total_steps*s2ms(CST.delta())/2, self.__total_steps*s2ms(CST.delta())/2, step=s2ms(CST.delta()) ), sq[0:self.__total_steps])\n",
        "        plt.xlabel('Autocorrelation \\u03C4(t) (ms)')\n",
        "        plt.ylabel('Probability')\n",
        "        plt.title('Histogram of autocorrelation %d')\n",
        "        plt.show()\n",
        "    def __call__(self, *args, **kwargs):\n",
        "        sq = self.__process()\n",
        "        self.__plot(sq)\n",
        "\n",
        "W6 = P6()\n",
        "W6()"
      ],
      "execution_count": 51,
      "outputs": [
        {
          "output_type": "display_data",
          "data": {
            "image/png": "[encoded data removed]",
            "text/plain": [
              "<Figure size 432x288 with 1 Axes>"
            ]
          },
          "metadata": {
            "tags": [],
            "needs_background": "light"
          }
        }
      ]
    },
    {
      "cell_type": "markdown",
      "metadata": {
        "id": "hAcfuN8ojy0g"
      },
      "source": [
        "# Problem 7\n",
        "\n",
        "Consider a model with a firing rate determined in terms of a stimulus \\\\(s(t)\\\\) by integrating the equation\n",
        "\n",
        "\\\\(\\tau_{r}\\frac{dr_\\text{est}(t)}{dt}=[r_0+s]_+-r_\\text{est}(t)\\\\)\n",
        "\n",
        "where \\\\(r_0\\\\) is a constant that determines the background firing rate and\n",
        "\\\\(r=20\\text{ms}\\\\). Drive the model with an approximate white-noise stimulus. Adjust the amplitude of the white-noise and the parameter \\\\(r_0\\\\) so that rectification is not a big e ect (i.e. \\\\(r_0+s>0\\\\) most of the time). From the responses of the model, compute the stimulus-response correlation function, \\\\(Q_{rs}\\\\) . Next, generate spikes from this model using a Poisson generator with a rate \\\\(r_\\text{est}(t)\\\\), and compute the spike-triggered average stimulus from the spike trains produced by the white-noise stimulus. By comparing the stimulus-response correlation function with the spike-triggered average, verify that equation 1.22 is satisfied. Examine what happens if you set \\\\(r_0=0\\\\), so that the white-noise stimulus becomes half-wave rectified.\n",
        "\n",
        "Solving the differential equation, we have\n",
        "\n",
        "\\\\(r_\\text{est}(t)=r_0(1-e^{-t/\\tau_r})\\\\)\n",
        "\n",
        "The coding part is trivial, and similar to previous problems, so we omit it.\n"
      ]
    },
    {
      "cell_type": "markdown",
      "metadata": {
        "id": "9M5qXaCYpAzo"
      },
      "source": [
        "# Problem 8\n",
        "\n",
        "matlab® file c1p8.mat contains data collected and provided by Robde Ruyter van Steveninck from a fly H1 neuron responding to an approximate white-noise visual motion stimulus. Data were collected for \\\\(20\\\\) minutes at a sampling rate of \\\\(500\\text{Hz}\\\\). In the file, rho is a vector that gives the sequence of spiking events or nonevents at the sampled times (every \\\\(2\\text{ms}\\\\)). When an element of rho is one, this indicates the presence of a spike at the corresponding time, whereas a zero value indicates no spike. The variable stim gives the sequence of stimulus values at the sampled times. Calculate and plot the spike-triggered average from these data over the range from \\\\(0\\\\) to \\\\(300\\text{ms}\\\\) (\\\\(150\\\\) time steps). (Based on a problem from Sebastian Seung.)\n"
      ]
    },
    {
      "cell_type": "code",
      "metadata": {
        "id": "7V30ef6dlH6j",
        "outputId": "1eaa8d8b-30cc-4906-e6e0-90b9614715ca",
        "colab": {
          "base_uri": "https://localhost:8080/",
          "height": 295
        }
      },
      "source": [
        "class P8:\n",
        "    def __init__(self, file_name:str='c1p8.mat', *args, **kwargs):\n",
        "        mat = scipy.io.loadmat(file_name=file_name)\n",
        "        self.__response = mat['rho'].squeeze()\n",
        "        self.__stimuli = mat['stim'].squeeze()\n",
        "        self.__TH = 20*60.0\n",
        "        self.__TL = 0.0\n",
        "        self.__total_steps = 150\n",
        "    def __process(self, *args, **kwargs):\n",
        "        # self.__stimuli = SpikeS(self.__TL, self.__TH, self.__stimuli)\n",
        "        # self.__response = SpikeS(self.__TL, self.__TH, self.__response)\n",
        "        ret = np.zeros(self.__total_steps)\n",
        "        for (index, value) in enumerate(self.__response):\n",
        "            if value == 1:\n",
        "                if index >= self.__total_steps:\n",
        "                    ret = np.add( ret, self.__stimuli[index-1 : index-self.__total_steps-1 : -1] )\n",
        "                else:\n",
        "                    # print(index, self.__total_steps-index, (self.__stimuli[0:index]))\n",
        "                    ret = np.add( ret, np.concatenate( (np.flip(self.__stimuli[0:index]), np.zeros(self.__total_steps-index)) ) )\n",
        "        return ret\n",
        "    def __plot(self, sq, *args, **kwargs):\n",
        "        plt.plot(np.arange(300, 0, -2), np.flip(sq))\n",
        "        plt.xlabel('Time before a spike (ms)')\n",
        "        plt.ylabel('Averege stimulus')\n",
        "        plt.title('Spike triggered average stimulus before a spike')\n",
        "        plt.show()\n",
        "    def __call__(self, *args, **kwargs):\n",
        "        sq = self.__process()\n",
        "        self.__plot(sq)\n",
        "\n",
        "W8 = P8()\n",
        "W8()"
      ],
      "execution_count": 80,
      "outputs": [
        {
          "output_type": "display_data",
          "data": {
            "image/png": "[encoded data removed]",
            "text/plain": [
              "<Figure size 432x288 with 1 Axes>"
            ]
          },
          "metadata": {
            "tags": [],
            "needs_background": "light"
          }
        }
      ]
    },
    {
      "cell_type": "markdown",
      "metadata": {
        "id": "Z71Wh-DE4SEF"
      },
      "source": [
        "# Problem 9\n",
        "\n",
        "Using the data of problem 8, calculate and plot stimulus averages triggered on events consisting of a pair of spikes (which need not necessarily be adjacent) separated by a given interval (as in figure 1.10).\n",
        "Plot these two-spike-triggered average stimuli for various separation intervals ranging from \\\\(2\\\\) to \\\\(100\\text{ms}\\\\). (Hint: in matlab® , use convolution for pattern matching: e.g. find(conv(rho,[1 \\\\(\\emptyset\\\\) 1]==2) will contain the indices of all the events with two spikes separated by \\\\(4\\text{ms}\\\\).) Plot, as a function of the separation between the two spikes, the magnitude of the di erence between the two-spike-triggered average and the sum of two single-spike-triggered averages (obtained in exercise 8) separated by the same time interval. At what temporal separation does this di erence become negligibly small. (Based on a problem from Sebastian Seung.)\n",
        "\n",
        "The coding is trivial, we omit it.\n",
        "\n"
      ]
    },
    {
      "cell_type": "markdown",
      "metadata": {
        "id": "tuCgJ7i4wpMK"
      },
      "source": [
        "# Problem 10\n",
        "\n",
        "Using the data of problem 8, find the spike-triggered average stimulus for events that contain exactly two adjacent spikes separated by various di erent intervals ranging from 2 to 100 ms (e.g. for 4 ms, the event [1 0 1℄ but not the event [1 1 1℄). This is distinct from exercise 9 in which we only required two spikes separated by a given interval, but did not restrict what happened between the two spikes. Compare results of the exclusive case considered here with those of the inclusive two-spike-triggered average computed in exercise 9. In what ways and why are they di erent? (Based on a problem from Sebastian Seung.)\n",
        "\n",
        "The coding is also, trivial, we omit it."
      ]
    }
  ]
}