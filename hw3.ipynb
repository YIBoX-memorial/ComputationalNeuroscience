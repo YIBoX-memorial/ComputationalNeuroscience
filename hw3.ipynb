{
  "nbformat": 4,
  "nbformat_minor": 0,
  "metadata": {
    "colab": {
      "name": "hw3.ipynb",
      "provenance": [],
      "collapsed_sections": [],
      "authorship_tag": "ABX9TyMCvFupJrEHgErsGAW4whEV",
      "include_colab_link": true
    },
    "kernelspec": {
      "name": "python3",
      "display_name": "Python 3"
    },
    "language_info": {
      "name": "python"
    }
  },
  "cells": [
    {
      "cell_type": "markdown",
      "metadata": {
        "id": "view-in-github",
        "colab_type": "text"
      },
      "source": [
        "<a href=\"https://colab.research.google.com/github/YIBoX-memorial/ComputationalNeuroscience/blob/master/hw3.ipynb\" target=\"_parent\"><img src=\"https://colab.research.google.com/assets/colab-badge.svg\" alt=\"Open In Colab\"/></a>"
      ]
    },
    {
      "cell_type": "code",
      "metadata": {
        "id": "tQJGgGjKGgKk",
        "colab": {
          "base_uri": "https://localhost:8080/"
        },
        "outputId": "2d60231c-01af-4166-9d5e-3d6053570fb2"
      },
      "source": [
        "import scipy.io\n",
        "from math import exp\n",
        "from math import log\n",
        "from math import cos\n",
        "from math import sin\n",
        "from math import pi\n",
        "from math import ceil\n",
        "from math import sqrt\n",
        "from math import factorial\n",
        "import numpy as np\n",
        "import cv2\n",
        "from google.colab.patches import cv2_imshow\n",
        "import matplotlib.pyplot as plt\n",
        "! nvidia-smi"
      ],
      "execution_count": 1,
      "outputs": [
        {
          "output_type": "stream",
          "text": [
            "NVIDIA-SMI has failed because it couldn't communicate with the NVIDIA driver. Make sure that the latest NVIDIA driver is installed and running.\n",
            "\n"
          ],
          "name": "stdout"
        }
      ]
    },
    {
      "cell_type": "markdown",
      "metadata": {
        "id": "fcXTDNhrCwO6"
      },
      "source": [
        "# Load Mat"
      ]
    },
    {
      "cell_type": "code",
      "metadata": {
        "colab": {
          "base_uri": "https://localhost:8080/"
        },
        "id": "i0EAP4TULv9c",
        "outputId": "aa542ce3-1d67-40c6-fbb5-9484d942cb08"
      },
      "source": [
        "input = scipy.io.loadmat('ps3_realdata.mat')\n",
        "class load_mat:\n",
        "    def __init__(self, input):\n",
        "        self.train_trial = input['train_trial']\n",
        "        self.test_trial = input['test_trial']\n",
        "    def _check(self):\n",
        "        print('train_trial: ', self.train_trial.shape, 'test_trial: ', self.test_trial.shape)\n",
        "        '''\n",
        "        for item in self.train_trial:\n",
        "            for item2 in item:\n",
        "                print(item2[1][0])\n",
        "        '''\n",
        "\n",
        "loader = load_mat(input)\n",
        "loader._check()"
      ],
      "execution_count": 2,
      "outputs": [
        {
          "output_type": "stream",
          "text": [
            "train_trial:  (91, 8) test_trial:  (91, 8)\n"
          ],
          "name": "stdout"
        }
      ]
    },
    {
      "cell_type": "markdown",
      "metadata": {
        "id": "74XT_dITcHAI"
      },
      "source": [
        "# Get $\\Sigma$"
      ]
    },
    {
      "cell_type": "code",
      "metadata": {
        "colab": {
          "base_uri": "https://localhost:8080/",
          "height": 36
        },
        "id": "29CGKHMCcOBk",
        "outputId": "93633016-feb0-43d5-a418-e45f60691cc0"
      },
      "source": [
        "def get_square(input):\n",
        "    if input.ndim == 1:\n",
        "        input = np.expand_dims(input, axis=1)\n",
        "    return np.asmatrix(input) * np.asmatrix(input).reshape(input.shape[0])\n",
        "\n",
        "def normal_prob(data, mean, variance):\n",
        "    if data.ndim == 1:\n",
        "        data = np.expand_dims(data, axis=0)\n",
        "    if mean.ndim == 1:\n",
        "        mean = np.expand_dims(mean, axis=0)\n",
        "    # print(data.shape, variance.shape, mean.shape)\n",
        "    return -0.5*log(np.linalg.det(variance)) - 0.5*np.asmatrix(data-mean)*np.asmatrix(variance).getI()*np.transpose(np.asmatrix(data-mean))\n",
        "\n",
        "def poisson_prob(data, lam):\n",
        "    fac = 0.0\n",
        "    data = int(data)\n",
        "    for i in range(1, data+1):\n",
        "        fac = fac + log(i)\n",
        "    if lam == 0.0 and data == 0:\n",
        "        return 1\n",
        "    if lam == 0.0 and data > 0:\n",
        "        return 0\n",
        "    return data*log(lam) - lam - fac\n",
        "'''\n",
        "a = np.asarray([[1],[2],[3],[4]])\n",
        "b = np.asarray([[4],[3],[2],[1]])\n",
        "b = np.asmatrix(b) + a\n",
        "print(a.shape)\n",
        "print(get_square(a))\n",
        "'''"
      ],
      "execution_count": 32,
      "outputs": [
        {
          "output_type": "execute_result",
          "data": {
            "application/vnd.google.colaboratory.intrinsic+json": {
              "type": "string"
            },
            "text/plain": [
              "'\\na = np.asarray([[1],[2],[3],[4]])\\nb = np.asarray([[4],[3],[2],[1]])\\nb = np.asmatrix(b) + a\\nprint(a.shape)\\nprint(get_square(a))\\n'"
            ]
          },
          "metadata": {
            "tags": []
          },
          "execution_count": 32
        }
      ]
    },
    {
      "cell_type": "markdown",
      "metadata": {
        "id": "AfB55o6cfKH1"
      },
      "source": [
        "# Porcessor of model 1"
      ]
    },
    {
      "cell_type": "code",
      "metadata": {
        "colab": {
          "base_uri": "https://localhost:8080/"
        },
        "id": "3wUgaPSOfQaP",
        "outputId": "bd713e80-16c8-42b5-991c-874dfd0bf6ff"
      },
      "source": [
        "class P1:\n",
        "    def __init__(self, train, test):\n",
        "        self.train = train\n",
        "        self.test = test\n",
        "        super().__init__()\n",
        "    def _pre_train_proc(self):\n",
        "        self.trials = self.train.shape[0]\n",
        "        self.angles = self.train.shape[1]\n",
        "        self.neurons = self.train[0][0][1].shape[0]\n",
        "        self.beg = 351\n",
        "        self.end = 551\n",
        "    def _train_proc(self):\n",
        "        self.mean = np.zeros((self.angles, self.neurons), dtype=np.float)\n",
        "        self.variance = np.zeros((self.angles, self.neurons, self.neurons), dtype=np.float)\n",
        "        for (trial_id, trial) in enumerate(self.train):\n",
        "            for (angle_id, angle) in enumerate(trial):\n",
        "                # print(self.mean[angle_id].shape, angle[1].sum(1).shape)\n",
        "                self.mean[angle_id] = self.mean[angle_id] + angle[1][:,self.beg:self.end].sum(1)\n",
        "                # print(angle[0][0], angle[1][:,self.beg:self.end].sum())\n",
        "        self.mean = self.mean / self.trials\n",
        "        for (trial_id, trial) in enumerate(self.train):\n",
        "            for (angle_id, angle) in enumerate(trial):\n",
        "                # print((angle[1][:,self.beg:self.end].sum(1)-self.mean[angle_id]).shape)\n",
        "                # print(get_square(angle[1][:,self.beg:self.end].sum(1)-self.mean[angle_id]))\n",
        "                self.variance[angle_id] = self.variance[angle_id] + get_square(angle[1][:,self.beg:self.end].sum(1)-self.mean[angle_id])\n",
        "        self.variance = self.variance / (self.trials*self.angles)\n",
        "        self.variance = np.sum(self.variance, axis=0)\n",
        "        print(self.mean.shape, self.variance.shape)\n",
        "    def _pre_test_proc(self):\n",
        "        self.trials = self.test.shape[0]\n",
        "        self.angles = self.test.shape[1]\n",
        "        self.neurons = self.test[0][0][1].shape[0]\n",
        "        self.beg = 351\n",
        "        self.end = 551\n",
        "    def _test_proc(self):\n",
        "        accuracy_cases = 0\n",
        "        for (trial_id, trial) in enumerate(self.test):\n",
        "            for (angle_id, angle) in enumerate(trial):\n",
        "                max_value = -100000\n",
        "                max_id = 0\n",
        "                for (comp_id, mean) in enumerate(self.mean):\n",
        "                    temp = normal_prob(angle[1][:,self.beg:self.end].sum(1), mean, self.variance)\n",
        "                    if temp > max_value:\n",
        "                        max_value = temp\n",
        "                        max_id = comp_id\n",
        "                if max_id == angle_id:\n",
        "                    accuracy_cases = accuracy_cases + 1\n",
        "        accuracy_rate = accuracy_cases / (self.trials*self.angles)\n",
        "        return accuracy_rate\n",
        "\n",
        "proc1 = P1(input['train_trial'], input['test_trial'])\n",
        "proc1._pre_train_proc()\n",
        "proc1._train_proc()\n",
        "proc1._pre_test_proc()\n",
        "acr = proc1._test_proc()\n",
        "print(acr)"
      ],
      "execution_count": 32,
      "outputs": [
        {
          "output_type": "stream",
          "text": [
            "(8, 97) (97, 97)\n",
            "0.9574175824175825\n"
          ],
          "name": "stdout"
        }
      ]
    },
    {
      "cell_type": "markdown",
      "metadata": {
        "id": "XsvAbP4FwTFR"
      },
      "source": [
        "# Processor of model 2"
      ]
    },
    {
      "cell_type": "code",
      "metadata": {
        "colab": {
          "base_uri": "https://localhost:8080/",
          "height": 486
        },
        "id": "VNtKKaszoDpz",
        "outputId": "96afcd93-9ef5-4af5-d568-3e44e05fbaa0"
      },
      "source": [
        "class P2:\n",
        "    def __init__(self, train, test):\n",
        "        self.train = train\n",
        "        self.test = test\n",
        "        super().__init__()\n",
        "    def _pre_train_proc(self):\n",
        "        self.trials = self.train.shape[0]\n",
        "        self.angles = self.train.shape[1]\n",
        "        self.neurons = self.train[0][0][1].shape[0]\n",
        "        self.beg = 351\n",
        "        self.end = 551\n",
        "    def _train_proc(self):\n",
        "        self.mean = np.zeros((self.angles, self.neurons), dtype=np.float)\n",
        "        self.variance = np.zeros((self.angles, self.neurons, self.neurons), dtype=np.float)\n",
        "        for (trial_id, trial) in enumerate(self.train):\n",
        "            for (angle_id, angle) in enumerate(trial):\n",
        "                # print(self.mean[angle_id].shape, angle[1].sum(1).shape)\n",
        "                self.mean[angle_id] = self.mean[angle_id] + angle[1][:,self.beg:self.end].sum(1)\n",
        "                # print(angle[0][0], angle[1][:,self.beg:self.end].sum())\n",
        "        self.mean = self.mean / self.trials\n",
        "        for (trial_id, trial) in enumerate(self.train):\n",
        "            for (angle_id, angle) in enumerate(trial):\n",
        "                # print((angle[1][:,self.beg:self.end].sum(1)-self.mean[angle_id]).shape)\n",
        "                # print(get_square(angle[1][:,self.beg:self.end].sum(1)-self.mean[angle_id]))\n",
        "                self.variance[angle_id] = self.variance[angle_id] + get_square(angle[1][:,self.beg:self.end].sum(1)-self.mean[angle_id])\n",
        "        self.variance = self.variance / self.trials\n",
        "        print(self.mean.shape, self.variance.shape)\n",
        "    def _pre_test_proc(self):\n",
        "        self.trials = self.test.shape[0]\n",
        "        self.angles = self.test.shape[1]\n",
        "        self.neurons = self.test[0][0][1].shape[0]\n",
        "        self.beg = 351\n",
        "        self.end = 551\n",
        "    def _test_proc(self):\n",
        "        accuracy_cases = 0\n",
        "        for (trial_id, trial) in enumerate(self.test):\n",
        "            for (angle_id, angle) in enumerate(trial):\n",
        "                max_value = -10000\n",
        "                max_id = 0\n",
        "                for comp_id in range(self.angles):\n",
        "                    print(angle[1][:,self.beg:self.end].sum(1).shape, self.mean[comp_id].shape, self.variance[comp_id].shape)\n",
        "                    print(np.linalg.det(np.asmatrix(self.variance[comp_id])))\n",
        "                    print(np.asmatrix(self.variance[comp_id]).getI())\n",
        "                    temp = normal_prob(angle[1][:,self.beg:self.end].sum(1), self.mean[comp_id], self.variance[comp_id])\n",
        "                    if temp > max_value:\n",
        "                        max_value = temp\n",
        "                        max_id = comp_id\n",
        "                if max_id == angle_id:\n",
        "                    accuracy_cases = accuracy_cases + 1\n",
        "        accuracy_rate = accuracy_cases / (self.trials*self.angles)\n",
        "        return accuracy_rate\n",
        "\n",
        "proc2 = P2(input['train_trial'], input['test_trial'])\n",
        "proc2._pre_train_proc()\n",
        "proc2._train_proc()\n",
        "proc2._pre_test_proc()\n",
        "acr = proc2._test_proc()\n",
        "print(acr)"
      ],
      "execution_count": 45,
      "outputs": [
        {
          "output_type": "stream",
          "text": [
            "(8, 97) (8, 97, 97)\n",
            "(97,) (97,) (97, 97)\n",
            "0.0\n"
          ],
          "name": "stdout"
        },
        {
          "output_type": "error",
          "ename": "LinAlgError",
          "evalue": "ignored",
          "traceback": [
            "\u001b[0;31m---------------------------------------------------------------------------\u001b[0m",
            "\u001b[0;31mLinAlgError\u001b[0m                               Traceback (most recent call last)",
            "\u001b[0;32m<ipython-input-45-98eeebd1fcb3>\u001b[0m in \u001b[0;36m<module>\u001b[0;34m()\u001b[0m\n\u001b[1;32m     55\u001b[0m \u001b[0mproc2\u001b[0m\u001b[0;34m.\u001b[0m\u001b[0m_train_proc\u001b[0m\u001b[0;34m(\u001b[0m\u001b[0;34m)\u001b[0m\u001b[0;34m\u001b[0m\u001b[0;34m\u001b[0m\u001b[0m\n\u001b[1;32m     56\u001b[0m \u001b[0mproc2\u001b[0m\u001b[0;34m.\u001b[0m\u001b[0m_pre_test_proc\u001b[0m\u001b[0;34m(\u001b[0m\u001b[0;34m)\u001b[0m\u001b[0;34m\u001b[0m\u001b[0;34m\u001b[0m\u001b[0m\n\u001b[0;32m---> 57\u001b[0;31m \u001b[0macr\u001b[0m \u001b[0;34m=\u001b[0m \u001b[0mproc2\u001b[0m\u001b[0;34m.\u001b[0m\u001b[0m_test_proc\u001b[0m\u001b[0;34m(\u001b[0m\u001b[0;34m)\u001b[0m\u001b[0;34m\u001b[0m\u001b[0;34m\u001b[0m\u001b[0m\n\u001b[0m\u001b[1;32m     58\u001b[0m \u001b[0mprint\u001b[0m\u001b[0;34m(\u001b[0m\u001b[0macr\u001b[0m\u001b[0;34m)\u001b[0m\u001b[0;34m\u001b[0m\u001b[0;34m\u001b[0m\u001b[0m\n",
            "\u001b[0;32m<ipython-input-45-98eeebd1fcb3>\u001b[0m in \u001b[0;36m_test_proc\u001b[0;34m(self)\u001b[0m\n\u001b[1;32m     41\u001b[0m                     \u001b[0mprint\u001b[0m\u001b[0;34m(\u001b[0m\u001b[0mangle\u001b[0m\u001b[0;34m[\u001b[0m\u001b[0;36m1\u001b[0m\u001b[0;34m]\u001b[0m\u001b[0;34m[\u001b[0m\u001b[0;34m:\u001b[0m\u001b[0;34m,\u001b[0m\u001b[0mself\u001b[0m\u001b[0;34m.\u001b[0m\u001b[0mbeg\u001b[0m\u001b[0;34m:\u001b[0m\u001b[0mself\u001b[0m\u001b[0;34m.\u001b[0m\u001b[0mend\u001b[0m\u001b[0;34m]\u001b[0m\u001b[0;34m.\u001b[0m\u001b[0msum\u001b[0m\u001b[0;34m(\u001b[0m\u001b[0;36m1\u001b[0m\u001b[0;34m)\u001b[0m\u001b[0;34m.\u001b[0m\u001b[0mshape\u001b[0m\u001b[0;34m,\u001b[0m \u001b[0mself\u001b[0m\u001b[0;34m.\u001b[0m\u001b[0mmean\u001b[0m\u001b[0;34m[\u001b[0m\u001b[0mcomp_id\u001b[0m\u001b[0;34m]\u001b[0m\u001b[0;34m.\u001b[0m\u001b[0mshape\u001b[0m\u001b[0;34m,\u001b[0m \u001b[0mself\u001b[0m\u001b[0;34m.\u001b[0m\u001b[0mvariance\u001b[0m\u001b[0;34m[\u001b[0m\u001b[0mcomp_id\u001b[0m\u001b[0;34m]\u001b[0m\u001b[0;34m.\u001b[0m\u001b[0mshape\u001b[0m\u001b[0;34m)\u001b[0m\u001b[0;34m\u001b[0m\u001b[0;34m\u001b[0m\u001b[0m\n\u001b[1;32m     42\u001b[0m                     \u001b[0mprint\u001b[0m\u001b[0;34m(\u001b[0m\u001b[0mnp\u001b[0m\u001b[0;34m.\u001b[0m\u001b[0mlinalg\u001b[0m\u001b[0;34m.\u001b[0m\u001b[0mdet\u001b[0m\u001b[0;34m(\u001b[0m\u001b[0mnp\u001b[0m\u001b[0;34m.\u001b[0m\u001b[0masmatrix\u001b[0m\u001b[0;34m(\u001b[0m\u001b[0mself\u001b[0m\u001b[0;34m.\u001b[0m\u001b[0mvariance\u001b[0m\u001b[0;34m[\u001b[0m\u001b[0mcomp_id\u001b[0m\u001b[0;34m]\u001b[0m\u001b[0;34m)\u001b[0m\u001b[0;34m)\u001b[0m\u001b[0;34m)\u001b[0m\u001b[0;34m\u001b[0m\u001b[0;34m\u001b[0m\u001b[0m\n\u001b[0;32m---> 43\u001b[0;31m                     \u001b[0mprint\u001b[0m\u001b[0;34m(\u001b[0m\u001b[0mnp\u001b[0m\u001b[0;34m.\u001b[0m\u001b[0masmatrix\u001b[0m\u001b[0;34m(\u001b[0m\u001b[0mself\u001b[0m\u001b[0;34m.\u001b[0m\u001b[0mvariance\u001b[0m\u001b[0;34m[\u001b[0m\u001b[0mcomp_id\u001b[0m\u001b[0;34m]\u001b[0m\u001b[0;34m)\u001b[0m\u001b[0;34m.\u001b[0m\u001b[0mgetI\u001b[0m\u001b[0;34m(\u001b[0m\u001b[0;34m)\u001b[0m\u001b[0;34m)\u001b[0m\u001b[0;34m\u001b[0m\u001b[0;34m\u001b[0m\u001b[0m\n\u001b[0m\u001b[1;32m     44\u001b[0m                     \u001b[0mtemp\u001b[0m \u001b[0;34m=\u001b[0m \u001b[0mnormal_prob\u001b[0m\u001b[0;34m(\u001b[0m\u001b[0mangle\u001b[0m\u001b[0;34m[\u001b[0m\u001b[0;36m1\u001b[0m\u001b[0;34m]\u001b[0m\u001b[0;34m[\u001b[0m\u001b[0;34m:\u001b[0m\u001b[0;34m,\u001b[0m\u001b[0mself\u001b[0m\u001b[0;34m.\u001b[0m\u001b[0mbeg\u001b[0m\u001b[0;34m:\u001b[0m\u001b[0mself\u001b[0m\u001b[0;34m.\u001b[0m\u001b[0mend\u001b[0m\u001b[0;34m]\u001b[0m\u001b[0;34m.\u001b[0m\u001b[0msum\u001b[0m\u001b[0;34m(\u001b[0m\u001b[0;36m1\u001b[0m\u001b[0;34m)\u001b[0m\u001b[0;34m,\u001b[0m \u001b[0mself\u001b[0m\u001b[0;34m.\u001b[0m\u001b[0mmean\u001b[0m\u001b[0;34m[\u001b[0m\u001b[0mcomp_id\u001b[0m\u001b[0;34m]\u001b[0m\u001b[0;34m,\u001b[0m \u001b[0mself\u001b[0m\u001b[0;34m.\u001b[0m\u001b[0mvariance\u001b[0m\u001b[0;34m[\u001b[0m\u001b[0mcomp_id\u001b[0m\u001b[0;34m]\u001b[0m\u001b[0;34m)\u001b[0m\u001b[0;34m\u001b[0m\u001b[0;34m\u001b[0m\u001b[0m\n\u001b[1;32m     45\u001b[0m                     \u001b[0;32mif\u001b[0m \u001b[0mtemp\u001b[0m \u001b[0;34m>\u001b[0m \u001b[0mmax_value\u001b[0m\u001b[0;34m:\u001b[0m\u001b[0;34m\u001b[0m\u001b[0;34m\u001b[0m\u001b[0m\n",
            "\u001b[0;32m/usr/local/lib/python3.7/dist-packages/numpy/matrixlib/defmatrix.py\u001b[0m in \u001b[0;36mI\u001b[0;34m(self)\u001b[0m\n\u001b[1;32m    833\u001b[0m         \u001b[0;32melse\u001b[0m\u001b[0;34m:\u001b[0m\u001b[0;34m\u001b[0m\u001b[0;34m\u001b[0m\u001b[0m\n\u001b[1;32m    834\u001b[0m             \u001b[0;32mfrom\u001b[0m \u001b[0mnumpy\u001b[0m\u001b[0;34m.\u001b[0m\u001b[0mdual\u001b[0m \u001b[0;32mimport\u001b[0m \u001b[0mpinv\u001b[0m \u001b[0;32mas\u001b[0m \u001b[0mfunc\u001b[0m\u001b[0;34m\u001b[0m\u001b[0;34m\u001b[0m\u001b[0m\n\u001b[0;32m--> 835\u001b[0;31m         \u001b[0;32mreturn\u001b[0m \u001b[0masmatrix\u001b[0m\u001b[0;34m(\u001b[0m\u001b[0mfunc\u001b[0m\u001b[0;34m(\u001b[0m\u001b[0mself\u001b[0m\u001b[0;34m)\u001b[0m\u001b[0;34m)\u001b[0m\u001b[0;34m\u001b[0m\u001b[0;34m\u001b[0m\u001b[0m\n\u001b[0m\u001b[1;32m    836\u001b[0m \u001b[0;34m\u001b[0m\u001b[0m\n\u001b[1;32m    837\u001b[0m     \u001b[0;34m@\u001b[0m\u001b[0mproperty\u001b[0m\u001b[0;34m\u001b[0m\u001b[0;34m\u001b[0m\u001b[0m\n",
            "\u001b[0;32m<__array_function__ internals>\u001b[0m in \u001b[0;36minv\u001b[0;34m(*args, **kwargs)\u001b[0m\n",
            "\u001b[0;32m/usr/local/lib/python3.7/dist-packages/numpy/linalg/linalg.py\u001b[0m in \u001b[0;36minv\u001b[0;34m(a)\u001b[0m\n\u001b[1;32m    544\u001b[0m     \u001b[0msignature\u001b[0m \u001b[0;34m=\u001b[0m \u001b[0;34m'D->D'\u001b[0m \u001b[0;32mif\u001b[0m \u001b[0misComplexType\u001b[0m\u001b[0;34m(\u001b[0m\u001b[0mt\u001b[0m\u001b[0;34m)\u001b[0m \u001b[0;32melse\u001b[0m \u001b[0;34m'd->d'\u001b[0m\u001b[0;34m\u001b[0m\u001b[0;34m\u001b[0m\u001b[0m\n\u001b[1;32m    545\u001b[0m     \u001b[0mextobj\u001b[0m \u001b[0;34m=\u001b[0m \u001b[0mget_linalg_error_extobj\u001b[0m\u001b[0;34m(\u001b[0m\u001b[0m_raise_linalgerror_singular\u001b[0m\u001b[0;34m)\u001b[0m\u001b[0;34m\u001b[0m\u001b[0;34m\u001b[0m\u001b[0m\n\u001b[0;32m--> 546\u001b[0;31m     \u001b[0mainv\u001b[0m \u001b[0;34m=\u001b[0m \u001b[0m_umath_linalg\u001b[0m\u001b[0;34m.\u001b[0m\u001b[0minv\u001b[0m\u001b[0;34m(\u001b[0m\u001b[0ma\u001b[0m\u001b[0;34m,\u001b[0m \u001b[0msignature\u001b[0m\u001b[0;34m=\u001b[0m\u001b[0msignature\u001b[0m\u001b[0;34m,\u001b[0m \u001b[0mextobj\u001b[0m\u001b[0;34m=\u001b[0m\u001b[0mextobj\u001b[0m\u001b[0;34m)\u001b[0m\u001b[0;34m\u001b[0m\u001b[0;34m\u001b[0m\u001b[0m\n\u001b[0m\u001b[1;32m    547\u001b[0m     \u001b[0;32mreturn\u001b[0m \u001b[0mwrap\u001b[0m\u001b[0;34m(\u001b[0m\u001b[0mainv\u001b[0m\u001b[0;34m.\u001b[0m\u001b[0mastype\u001b[0m\u001b[0;34m(\u001b[0m\u001b[0mresult_t\u001b[0m\u001b[0;34m,\u001b[0m \u001b[0mcopy\u001b[0m\u001b[0;34m=\u001b[0m\u001b[0;32mFalse\u001b[0m\u001b[0;34m)\u001b[0m\u001b[0;34m)\u001b[0m\u001b[0;34m\u001b[0m\u001b[0;34m\u001b[0m\u001b[0m\n\u001b[1;32m    548\u001b[0m \u001b[0;34m\u001b[0m\u001b[0m\n",
            "\u001b[0;32m/usr/local/lib/python3.7/dist-packages/numpy/linalg/linalg.py\u001b[0m in \u001b[0;36m_raise_linalgerror_singular\u001b[0;34m(err, flag)\u001b[0m\n\u001b[1;32m     86\u001b[0m \u001b[0;34m\u001b[0m\u001b[0m\n\u001b[1;32m     87\u001b[0m \u001b[0;32mdef\u001b[0m \u001b[0m_raise_linalgerror_singular\u001b[0m\u001b[0;34m(\u001b[0m\u001b[0merr\u001b[0m\u001b[0;34m,\u001b[0m \u001b[0mflag\u001b[0m\u001b[0;34m)\u001b[0m\u001b[0;34m:\u001b[0m\u001b[0;34m\u001b[0m\u001b[0;34m\u001b[0m\u001b[0m\n\u001b[0;32m---> 88\u001b[0;31m     \u001b[0;32mraise\u001b[0m \u001b[0mLinAlgError\u001b[0m\u001b[0;34m(\u001b[0m\u001b[0;34m\"Singular matrix\"\u001b[0m\u001b[0;34m)\u001b[0m\u001b[0;34m\u001b[0m\u001b[0;34m\u001b[0m\u001b[0m\n\u001b[0m\u001b[1;32m     89\u001b[0m \u001b[0;34m\u001b[0m\u001b[0m\n\u001b[1;32m     90\u001b[0m \u001b[0;32mdef\u001b[0m \u001b[0m_raise_linalgerror_nonposdef\u001b[0m\u001b[0;34m(\u001b[0m\u001b[0merr\u001b[0m\u001b[0;34m,\u001b[0m \u001b[0mflag\u001b[0m\u001b[0;34m)\u001b[0m\u001b[0;34m:\u001b[0m\u001b[0;34m\u001b[0m\u001b[0;34m\u001b[0m\u001b[0m\n",
            "\u001b[0;31mLinAlgError\u001b[0m: Singular matrix"
          ]
        }
      ]
    },
    {
      "cell_type": "markdown",
      "metadata": {
        "id": "Edw5gtML9Skx"
      },
      "source": [
        "# Processor of model 3"
      ]
    },
    {
      "cell_type": "code",
      "metadata": {
        "colab": {
          "base_uri": "https://localhost:8080/"
        },
        "id": "PZAKRCJx7x1m",
        "outputId": "286da0bc-5195-4ba0-8dac-8842ee573ff4"
      },
      "source": [
        "class P3:\n",
        "    def __init__(self, train, test):\n",
        "        self.train = train\n",
        "        self.test = test\n",
        "        super().__init__()\n",
        "    def _pre_train_proc(self):\n",
        "        self.trials = self.train.shape[0]\n",
        "        self.angles = self.train.shape[1]\n",
        "        self.neurons = self.train[0][0][1].shape[0]\n",
        "        self.beg = 351\n",
        "        self.end = 551\n",
        "    def _train_proc(self):\n",
        "        self.mean = np.zeros((self.angles, self.neurons), dtype=np.float)\n",
        "        for (trial_id, trial) in enumerate(self.train):\n",
        "            for (angle_id, angle) in enumerate(trial):\n",
        "                self.mean[angle_id] = self.mean[angle_id] + angle[1][:,self.beg:self.end].sum(1)\n",
        "        self.mean = self.mean / self.trials\n",
        "    def _pre_test_proc(self):\n",
        "        self.trials = self.test.shape[0]\n",
        "        self.angles = self.test.shape[1]\n",
        "        self.neurons = self.test[0][0][1].shape[0]\n",
        "        self.beg = 351\n",
        "        self.end = 551\n",
        "        print(self.trials, self.angles, self.neurons)\n",
        "    def _test_proc(self):\n",
        "        accuracy_cases = 0\n",
        "        for (trial_id, trial) in enumerate(self.test):\n",
        "            # print('trial: ', trial_id)\n",
        "            for (angle_id, angle) in enumerate(trial):\n",
        "                for (neuron_id, neuron) in enumerate(angle[1]):\n",
        "                    # print(neuron.sum())\n",
        "                    max_value = -10000\n",
        "                    max_id = 0\n",
        "                    for comp_id in range(self.angles):\n",
        "                        temp = poisson_prob(neuron[self.beg:self.end].sum(), self.mean[comp_id][neuron_id])\n",
        "                        if temp > max_value:\n",
        "                            max_value = temp\n",
        "                            max_id = comp_id\n",
        "                    if max_id == angle_id:\n",
        "                        accuracy_cases = accuracy_cases + 1\n",
        "        accuracy_rate = accuracy_cases / (self.trials*self.angles*self.neurons)\n",
        "        return accuracy_rate\n",
        "\n",
        "proc3 = P3(input['train_trial'], input['test_trial'])\n",
        "proc3._pre_train_proc()\n",
        "proc3._train_proc()\n",
        "proc3._pre_test_proc()\n",
        "acr = proc3._test_proc()\n",
        "print(acr)"
      ],
      "execution_count": 36,
      "outputs": [
        {
          "output_type": "stream",
          "text": [
            "91 8 97\n",
            "0.19018352781239378\n"
          ],
          "name": "stdout"
        }
      ]
    }
  ]
}