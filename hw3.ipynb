{
  "nbformat": 4,
  "nbformat_minor": 0,
  "metadata": {
    "colab": {
      "name": "hw3.ipynb",
      "provenance": [],
      "collapsed_sections": [],
      "authorship_tag": "ABX9TyMnr50biUL6uZCmJhGHvYcL",
      "include_colab_link": true
    },
    "kernelspec": {
      "name": "python3",
      "display_name": "Python 3"
    },
    "language_info": {
      "name": "python"
    }
  },
  "cells": [
    {
      "cell_type": "markdown",
      "metadata": {
        "id": "view-in-github",
        "colab_type": "text"
      },
      "source": [
        "<a href=\"https://colab.research.google.com/github/YIBoX-memorial/ComputationalNeuroscience/blob/master/hw3.ipynb\" target=\"_parent\"><img src=\"https://colab.research.google.com/assets/colab-badge.svg\" alt=\"Open In Colab\"/></a>"
      ]
    },
    {
      "cell_type": "code",
      "metadata": {
        "id": "tQJGgGjKGgKk",
        "colab": {
          "base_uri": "https://localhost:8080/"
        },
        "outputId": "eef2aec1-229f-477a-e233-06994b88736b"
      },
      "source": [
        "import scipy.io\n",
        "from math import exp\n",
        "from math import log\n",
        "from math import cos\n",
        "from math import sin\n",
        "from math import pi\n",
        "from math import ceil\n",
        "from math import sqrt\n",
        "import numpy as np\n",
        "import cv2\n",
        "from google.colab.patches import cv2_imshow\n",
        "import matplotlib.pyplot as plt\n",
        "! nvidia-smi"
      ],
      "execution_count": 5,
      "outputs": [
        {
          "output_type": "stream",
          "text": [
            "NVIDIA-SMI has failed because it couldn't communicate with the NVIDIA driver. Make sure that the latest NVIDIA driver is installed and running.\n",
            "\n"
          ],
          "name": "stdout"
        }
      ]
    },
    {
      "cell_type": "markdown",
      "metadata": {
        "id": "fcXTDNhrCwO6"
      },
      "source": [
        "# Load Mat"
      ]
    },
    {
      "cell_type": "code",
      "metadata": {
        "colab": {
          "base_uri": "https://localhost:8080/"
        },
        "id": "i0EAP4TULv9c",
        "outputId": "28f0443e-e384-4f80-93bb-10686b6d5c73"
      },
      "source": [
        "input = scipy.io.loadmat('ps3_realdata.mat')\n",
        "class load_mat:\n",
        "    def __init__(self, input):\n",
        "        self.train_trial = input['train_trial']\n",
        "        self.test_trial = input['test_trial']\n",
        "    def _check(self):\n",
        "        print('train_trial: ', self.train_trial.shape, 'test_trial: ', self.test_trial.shape)\n",
        "        '''\n",
        "        for item in self.train_trial:\n",
        "            for item2 in item:\n",
        "                print(item2[1][0])\n",
        "        '''\n",
        "\n",
        "loader = load_mat(input)\n",
        "loader._check()"
      ],
      "execution_count": 6,
      "outputs": [
        {
          "output_type": "stream",
          "text": [
            "train_trial:  (91, 8) test_trial:  (91, 8)\n"
          ],
          "name": "stdout"
        }
      ]
    },
    {
      "cell_type": "markdown",
      "metadata": {
        "id": "74XT_dITcHAI"
      },
      "source": [
        "# Get $\\Sigma$"
      ]
    },
    {
      "cell_type": "code",
      "metadata": {
        "colab": {
          "base_uri": "https://localhost:8080/",
          "height": 36
        },
        "id": "29CGKHMCcOBk",
        "outputId": "9ebba3aa-43f5-49d7-fe08-c5b6b918be31"
      },
      "source": [
        "def get_square(input):\n",
        "    if input.ndim == 1:\n",
        "        input = np.expand_dims(input, axis=1)\n",
        "    return np.asmatrix(input) * np.asmatrix(input).reshape(input.shape[0])\n",
        "\n",
        "def normal_prob(data, mean, variance):\n",
        "    if data.ndim == 1:\n",
        "        data = np.expand_dims(data, axis=0)\n",
        "    if mean.ndim == 1:\n",
        "        mean = np.expand_dims(mean, axis=0)\n",
        "    # print(data.shape, variance.shape, mean.shape)\n",
        "    return -0.5*log(np.linalg.det(variance)) - 0.5*np.asmatrix(data-mean)*np.asmatrix(variance).getI()*np.transpose(np.asmatrix(data-mean))\n",
        "\n",
        "'''\n",
        "a = np.asarray([[1],[2],[3],[4]])\n",
        "b = np.asarray([[4],[3],[2],[1]])\n",
        "b = np.asmatrix(b) + a\n",
        "print(a.shape)\n",
        "print(get_square(a))\n",
        "'''"
      ],
      "execution_count": 31,
      "outputs": [
        {
          "output_type": "execute_result",
          "data": {
            "application/vnd.google.colaboratory.intrinsic+json": {
              "type": "string"
            },
            "text/plain": [
              "'\\na = np.asarray([[1],[2],[3],[4]])\\nb = np.asarray([[4],[3],[2],[1]])\\nb = np.asmatrix(b) + a\\nprint(a.shape)\\nprint(get_square(a))\\n'"
            ]
          },
          "metadata": {
            "tags": []
          },
          "execution_count": 31
        }
      ]
    },
    {
      "cell_type": "markdown",
      "metadata": {
        "id": "AfB55o6cfKH1"
      },
      "source": [
        "# Porcessor of model 1"
      ]
    },
    {
      "cell_type": "code",
      "metadata": {
        "colab": {
          "base_uri": "https://localhost:8080/"
        },
        "id": "3wUgaPSOfQaP",
        "outputId": "bd713e80-16c8-42b5-991c-874dfd0bf6ff"
      },
      "source": [
        "class P1:\n",
        "    def __init__(self, train, test):\n",
        "        self.train = train\n",
        "        self.test = test\n",
        "        super().__init__()\n",
        "    def _pre_train_proc(self):\n",
        "        self.trials = self.train.shape[0]\n",
        "        self.angles = self.train.shape[1]\n",
        "        self.neurons = self.train[0][0][1].shape[0]\n",
        "        self.beg = 351\n",
        "        self.end = 551\n",
        "    def _train_proc(self):\n",
        "        self.mean = np.zeros((self.angles, self.neurons), dtype=np.float)\n",
        "        self.variance = np.zeros((self.angles, self.neurons, self.neurons), dtype=np.float)\n",
        "        for (trial_id, trial) in enumerate(self.train):\n",
        "            for (angle_id, angle) in enumerate(trial):\n",
        "                # print(self.mean[angle_id].shape, angle[1].sum(1).shape)\n",
        "                self.mean[angle_id] = self.mean[angle_id] + angle[1][:,self.beg:self.end].sum(1)\n",
        "                # print(angle[0][0], angle[1][:,self.beg:self.end].sum())\n",
        "        self.mean = self.mean / self.trials\n",
        "        for (trial_id, trial) in enumerate(self.train):\n",
        "            for (angle_id, angle) in enumerate(trial):\n",
        "                # print((angle[1][:,self.beg:self.end].sum(1)-self.mean[angle_id]).shape)\n",
        "                # print(get_square(angle[1][:,self.beg:self.end].sum(1)-self.mean[angle_id]))\n",
        "                self.variance[angle_id] = self.variance[angle_id] + get_square(angle[1][:,self.beg:self.end].sum(1)-self.mean[angle_id])\n",
        "        self.variance = self.variance / (self.trials*self.angles)\n",
        "        self.variance = np.sum(self.variance, axis=0)\n",
        "        print(self.mean.shape, self.variance.shape)\n",
        "    def _pre_test_proc(self):\n",
        "        self.trials = self.test.shape[0]\n",
        "        self.angles = self.test.shape[1]\n",
        "        self.neurons = self.test[0][0][1].shape[0]\n",
        "        self.beg = 351\n",
        "        self.end = 551\n",
        "    def _test_proc(self):\n",
        "        accuracy_cases = 0\n",
        "        for (trial_id, trial) in enumerate(self.test):\n",
        "            for (angle_id, angle) in enumerate(trial):\n",
        "                max_value = -100000\n",
        "                max_id = 0\n",
        "                for (comp_id, mean) in enumerate(self.mean):\n",
        "                    temp = normal_prob(angle[1][:,self.beg:self.end].sum(1), mean, self.variance)\n",
        "                    if temp > max_value:\n",
        "                        max_value = temp\n",
        "                        max_id = comp_id\n",
        "                if max_id == angle_id:\n",
        "                    accuracy_cases = accuracy_cases + 1\n",
        "        accuracy_rate = accuracy_cases / (self.trials*self.angles)\n",
        "        return accuracy_rate\n",
        "\n",
        "proc1 = P1(input['train_trial'], input['test_trial'])\n",
        "proc1._pre_train_proc()\n",
        "proc1._train_proc()\n",
        "proc1._pre_test_proc()\n",
        "acr = proc1._test_proc()\n",
        "print(acr)"
      ],
      "execution_count": 32,
      "outputs": [
        {
          "output_type": "stream",
          "text": [
            "(8, 97) (97, 97)\n",
            "0.9574175824175825\n"
          ],
          "name": "stdout"
        }
      ]
    },
    {
      "cell_type": "markdown",
      "metadata": {
        "id": "XsvAbP4FwTFR"
      },
      "source": [
        "# Processor of model 2"
      ]
    },
    {
      "cell_type": "code",
      "metadata": {
        "id": "VNtKKaszoDpz"
      },
      "source": [
        "class P1:\n",
        "    def __init__(self, train, test):\n",
        "        self.train = train\n",
        "        self.test = test\n",
        "        super().__init__()\n",
        "    def _pre_train_proc(self):\n",
        "        self.trials = self.train.shape[0]\n",
        "        self.angles = self.train.shape[1]\n",
        "        self.neurons = self.train[0][0][1].shape[0]\n",
        "        self.beg = 351\n",
        "        self.end = 551\n",
        "    def _train_proc(self):\n",
        "        self.mean = np.zeros((self.angles, self.neurons), dtype=np.float)\n",
        "        self.variance = np.zeros((self.angles, self.neurons, self.neurons), dtype=np.float)\n",
        "        for (trial_id, trial) in enumerate(self.train):\n",
        "            for (angle_id, angle) in enumerate(trial):\n",
        "                # print(self.mean[angle_id].shape, angle[1].sum(1).shape)\n",
        "                self.mean[angle_id] = self.mean[angle_id] + angle[1][:,self.beg:self.end].sum(1)\n",
        "                # print(angle[0][0], angle[1][:,self.beg:self.end].sum())\n",
        "        self.mean = self.mean / self.trials\n",
        "        for (trial_id, trial) in enumerate(self.train):\n",
        "            for (angle_id, angle) in enumerate(trial):\n",
        "                # print((angle[1][:,self.beg:self.end].sum(1)-self.mean[angle_id]).shape)\n",
        "                # print(get_square(angle[1][:,self.beg:self.end].sum(1)-self.mean[angle_id]))\n",
        "                self.variance[angle_id] = self.variance[angle_id] + get_square(angle[1][:,self.beg:self.end].sum(1)-self.mean[angle_id])\n",
        "        self.variance = self.variance / (self.trials*self.angles)\n",
        "        self.variance = np.sum(self.variance, axis=0)\n",
        "        print(self.mean.shape, self.variance.shape)\n",
        "    def _pre_test_proc(self):\n",
        "        self.trials = self.test.shape[0]\n",
        "        self.angles = self.test.shape[1]\n",
        "        self.neurons = self.test[0][0][1].shape[0]\n",
        "        self.beg = 351\n",
        "        self.end = 551\n",
        "    def _test_proc(self):\n",
        "        accuracy_cases = 0\n",
        "        for (trial_id, trial) in enumerate(self.test):\n",
        "            for (angle_id, angle) in enumerate(trial):\n",
        "                max_value = -10000\n",
        "                max_id = 0\n",
        "                for (comp_id, mean) in enumerate(self.mean):\n",
        "                    temp = normal_prob(angle[1][:,self.beg:self.end].sum(1), mean, self.variance)\n",
        "                    if temp > max_value:\n",
        "                        max_value = temp\n",
        "                        max_id = comp_id\n",
        "                if max_id == angle_id:\n",
        "                    accuracy_cases = accuracy_cases + 1\n",
        "        accuracy_rate = accuracy_cases / (self.trials*self.angles)\n",
        "        return accuracy_rate\n",
        "\n",
        "proc1 = P1(input['train_trial'], input['test_trial'])\n",
        "proc1._pre_train_proc()\n",
        "proc1._train_proc()\n",
        "proc1._pre_test_proc()\n",
        "acr = proc1._test_proc()\n",
        "print(acr)"
      ],
      "execution_count": null,
      "outputs": []
    }
  ]
}