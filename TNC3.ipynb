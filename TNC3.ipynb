{
  "nbformat": 4,
  "nbformat_minor": 0,
  "metadata": {
    "colab": {
      "name": "TNC3.ipynb",
      "provenance": [],
      "collapsed_sections": [],
      "toc_visible": true,
      "authorship_tag": "ABX9TyODhgf06085lmgpBMzgtCmE",
      "include_colab_link": true
    },
    "kernelspec": {
      "name": "python3",
      "display_name": "Python 3"
    }
  },
  "cells": [
    {
      "cell_type": "markdown",
      "metadata": {
        "id": "view-in-github",
        "colab_type": "text"
      },
      "source": [
        "<a href=\"https://colab.research.google.com/github/YIBoX-memorial/ComputationalNeuroscience/blob/master/TNC3.ipynb\" target=\"_parent\"><img src=\"https://colab.research.google.com/assets/colab-badge.svg\" alt=\"Open In Colab\"/></a>"
      ]
    },
    {
      "cell_type": "markdown",
      "metadata": {
        "id": "whjE4u4K9sba"
      },
      "source": [
        ""
      ]
    },
    {
      "cell_type": "code",
      "metadata": {
        "id": "tQJGgGjKGgKk",
        "colab": {
          "base_uri": "https://localhost:8080/"
        },
        "outputId": "0eef6346-d9b9-481e-bd13-64bf33bfbaf5"
      },
      "source": [
        "import scipy.io\n",
        "from math import exp\n",
        "from math import log\n",
        "from math import cos\n",
        "from math import sin\n",
        "from math import pi\n",
        "from math import ceil\n",
        "from math import sqrt\n",
        "import numpy as np\n",
        "import cv2\n",
        "from google.colab.patches import cv2_imshow\n",
        "import matplotlib.pyplot as plt\n",
        "! nvidia-smi"
      ],
      "execution_count": null,
      "outputs": [
        {
          "output_type": "stream",
          "text": [
            "NVIDIA-SMI has failed because it couldn't communicate with the NVIDIA driver. Make sure that the latest NVIDIA driver is installed and running.\n",
            "\n"
          ],
          "name": "stdout"
        }
      ]
    },
    {
      "cell_type": "markdown",
      "metadata": {
        "id": "gvSFYXk__Dqg"
      },
      "source": [
        "# Constant"
      ]
    },
    {
      "cell_type": "code",
      "metadata": {
        "id": "AwPKReR1YO0E"
      },
      "source": [
        "class CST:\n",
        "    __delta__ = 0.002 # s\n",
        "    __GPU = False\n",
        "    __default__ = 0.002\n",
        "    def __init(self):\n",
        "        pass\n",
        "    @classmethod\n",
        "    def delta(cls):\n",
        "        return cls.__delta__\n",
        "    @classmethod\n",
        "    def GPU(cls):\n",
        "        return cls.__GPU\n",
        "    def set_delta(cls, x):\n",
        "        cls.__default__ = cls.__delta__\n",
        "        cls.__delta__ = x\n",
        "    def reset_delta(cls):\n",
        "        cls.__delta__ =  cls.__default__\n",
        "\n",
        "def pos(x):\n",
        "    return int(x / CST.delta())\n",
        "\n",
        "def s2ms(x):\n",
        "    return 1000*x\n",
        "\n",
        "def ms2s(x):\n",
        "    return x/1000.0\n",
        "\n",
        "# CST.set_delta(CST, 0.1)\n",
        "# print(CST.delta())\n",
        "# CST.reset_delta(CST)\n",
        "# print(CST.delta())"
      ],
      "execution_count": null,
      "outputs": []
    },
    {
      "cell_type": "markdown",
      "metadata": {
        "id": "GeDkjg55lCYj"
      },
      "source": [
        "# Function\n",
        "\n",
        "Definition of functions."
      ]
    },
    {
      "cell_type": "code",
      "metadata": {
        "id": "1bvNn86s1COl"
      },
      "source": [
        "class Func:\n",
        "    def __init__(self, *args, **kwargs):\n",
        "        pass\n",
        "    def value(self, x:float=0.0, *args, **kwargs):\n",
        "        pass\n",
        "    def __call__(self, input, *args, **kwargs):\n",
        "        return self.value(input)\n",
        "\n",
        "class Const(Func):\n",
        "    def __init__(self, value:float=0.0, *args, **kwargs):\n",
        "        self.__value = value\n",
        "    def value(self, x:float=0.0, *args, **kwargs):\n",
        "        return self.__value\n",
        "\n",
        "class Refractory_Func(Func):\n",
        "    def __init__(self, r0:float=0.0, ref_period:float=1.0, *args, **kwargs):\n",
        "        self.__r0 = r0\n",
        "        self.__ref_period = ref_period\n",
        "    def value(self, x:float=0.0, *args, **kwargs):\n",
        "        try:\n",
        "            return self.__r0 * ( 1 - exp(-x/self.__ref_period) )\n",
        "        except:\n",
        "            print('x: ', x)\n",
        "\n"
      ],
      "execution_count": null,
      "outputs": []
    },
    {
      "cell_type": "markdown",
      "metadata": {
        "id": "2kqlUMetcoug"
      },
      "source": [
        "# Problem 1\n",
        "\n",
        "Suppose that the probabilities that a neuron responds with a firing rate between \\\\(r\\\\) and \\\\(r+\\Delta r\\\\) to two stimuli labeled plus and minus are \\\\(p[r|\\pm\u0006]\\Delta r\\\\) where\n",
        "\n",
        "\\\\(p[r|\\pm]=\\frac{1}{\\sqrt{2\\pi}\\sigma_r}\\exp\\left(-\\frac{1}{2}\\left(\\frac{1-\\langle r\\rangle_\\pm}{\\sigma_r}\\right)^2\\right)\\\\)\n",
        "\n",
        "Assume that the two mean rate parameters \\\\(\\langle r\\rangle_+\\\\) and\\\\(\\langle r\\rangle_-\\\\) and the single variance \\\\(\\sigma^2_r\\\\) are chosen so that these distributions produce negative rates rarely enough that we can integrate over \\\\(r\\\\) values over the entire range \\\\(-\\infty< r<+\\infty\\\\). Suppose that you base discrimination of the plus and minus stimuli on whether the evoked firing rate is greater or less than a threshold \\\\(z\\\\). Show that the size and power, \\\\(\\alpha(z)\\\\) and \\\\(\\beta(z)\\\\) of this test are given by\n",
        "\n",
        "\\\\(\\alpha(z)=\\frac{1}{2}\\text{erfc}\\left(\\frac{z-\\langle r\\rangle_-}{\\sqrt{2}\\sigma_r}\\right)\\\\)\n",
        "\n",
        "\\\\(\\beta(z)=\\frac{1}{2}\\text{erfc}\\left(\\frac{z-\\langle r\\rangle_+}{\\sqrt{2}\\sigma_r}\\right)\\\\)\n",
        "\n",
        "Show that the probability of a correct answer in the associated two-alternative forced choice task involving discriminating between plus-then-minus and minus-then-plus presentations of the two stimuli is given by equation\n",
        "\n",
        "\\\\(P[\\text{correct}]=\\frac{1}{2}\\text{erfc}\\left(\\frac{\\langle r\\rangle_--\\langle r\\rangle_+}{\\sqrt{2}\\sigma_r}\\right)=\\frac{1}{2}\\text{erfc}(d'/2)\\\\)(3.10).\n",
        " \n",
        "Also, derive the result of equation\n",
        "\n",
        "\\\\(P[+|r]=\\frac{1}{1+\\exp(-d'(r-r_\\text{ave})/\\sigma_r)}\\\\)(3.17).\n",
        "\n",
        "Plot ROC curves for di erent values of the discriminability\n",
        "\n",
        "\\\\(d'=\\frac{\\langle r\\rangle_+-\\langle r\\rangle_-}{\\sigma_r}\\\\)\n",
        "\n",
        "By simulation, determine the fraction of correct discriminations that can be made in the two-alternative forced choice task. Show that the fractions of correct answer for di erent values of \\\\(d'\\\\) are equal to the areas under the corresponding ROC curves.\n",
        "\n"
      ]
    },
    {
      "cell_type": "markdown",
      "metadata": {
        "id": "vlFHkX80AUuf"
      },
      "source": [
        "# Solution 1\n",
        "\n",
        "First, recall the definition of error function\n",
        "\n",
        "\\\\(\\text{erfc}(x)=\\frac{2}{\\sqrt{\\pi}}\\int_x^\\infty dy\\ \\exp(-y^2)\\\\)\n",
        "\n",
        "and \\\\(P[\\text{correct}]=\\int_0^1 d\\alpha\\ \\beta\\\\)\n",
        "\n",
        "\\\\(\\beta/\\alpha=\\text{erfc}\\left(\\frac{\\langle r\\rangle_--\\langle r\\rangle_+}{\\sqrt{2}\\sigma_r}\\right)\\\\)\n",
        "\n",
        "\\\\(P[\\text{correct}]=\\int_0^1 d\\alpha\\ \\text{erfc}\\left(\\frac{\\langle r\\rangle_--\\langle r\\rangle_+}{\\sqrt{2}\\sigma_r}\\right)\\alpha=\\frac{1}{2}\\text{erfc}\\left(\\frac{\\langle r\\rangle_--\\langle r\\rangle_+}{\\sqrt{2}\\sigma_r}\\right)\\\\)\n",
        "\n",
        "Then we compute \\\\(P[+|r]\\\\),\n",
        "\n",
        "\\\\(P[+|r]=P[r|+]P[+]/P[r]=\\frac{p[r|+]}{2\\times\\frac{1}{2}(P[r|-]+P[r|+])}=\\\\)(3.17)"
      ]
    },
    {
      "cell_type": "markdown",
      "metadata": {
        "id": "SP8BacT5fuXh"
      },
      "source": [
        "# Problem 2\n",
        "\n",
        "Simulate the random-dot discrimination experiment. Denote the stimulus by plus or minus, corresponding to the two directions of motion.\n",
        "\n",
        "On each trial, choose the stimulus randomly with equal probability for the two cases.\n",
        "\n",
        "When the minus stimulus is chosen, generate the responses of the neuron as \\\\(20\\text{Hz}\\\\) plus a random Gaussian term with a standard deviation of \\\\(10\\text{Hz}\\\\) (set any rates that come out negative to zero).\n",
        "\n",
        "When the plus stimulus is chosen, generate the responses as \\\\(20+10d\\text{Hz}\\\\) plus a random Gaussian term with a standard deviation of \\\\(10\\text{Hz}\\\\), where \\\\(d\\\\) is the discriminability (again, set any rates that come out negative to zero). First, choose a threshold \\\\(z=20+5d\\\\), which is half-way between the means of the two response distributions.\n",
        "\n",
        "Whenever \\\\(r\\geq z\\\\) guess “plus”, otherwise guess “minus”. Over a large number of trials (1000, for example) determine how often you get the right answer for different \\\\(d\\\\) values.\n",
        "\n",
        "Plot the percent correct as a function of \\\\(d\\\\) over the range \\\\(0\\leq d\\leq 10\\\\). Next, by allowing \\\\(z\\\\) to vary over a range, plot ROC curves for several values of \\\\(d\\\\) (starting with \\\\(d=2\\\\)).\n",
        "\n",
        "To do this, determine how frequently the guess is “plus” when the stimulus is, in fact, plus (this is \\\\(\\beta\\\\)), and how often the guess is “plus” when the real stimulus is minus (this is \\\\(\\alpha\\\\)). Then, plot versus for \\\\(z\\\\) over the range \\\\(0\\leq z\\leq 140\\\\).\n"
      ]
    },
    {
      "cell_type": "code",
      "metadata": {
        "colab": {
          "base_uri": "https://localhost:8080/",
          "height": 1000
        },
        "id": "9uqYwPqOlzJR",
        "outputId": "8dd2bb0a-995f-46c5-b8d9-cfa87e126b88"
      },
      "source": [
        "class P2:\n",
        "    def __minimum_interval__(self):\n",
        "        return 0.01\n",
        "    def __MIN__(self):\n",
        "        return 0.0\n",
        "    def __MAX__(self):\n",
        "        return 200.0\n",
        "    class Gaussian(Func):\n",
        "        def __init__(self, mean:float=0.0, stdd:float=0.0):\n",
        "            self.__mean__ = mean\n",
        "            self.__stdd__ = stdd\n",
        "        def value(self, x):\n",
        "            return np.exp(-(x-self.__mean__)**2/(2*self.__stdd__**2))/(sqrt(2*pi)*self.__stdd__)\n",
        "    def G_int(self, func, low_bound, high_bound):\n",
        "        x = np.arange(low_bound, high_bound, self.__minimum_interval__())\n",
        "        y = func(x)\n",
        "        ret = np.sum(y) * self.__minimum_interval__()\n",
        "        return ret\n",
        "    class ERFC(Func):\n",
        "        def __init__(self, func):\n",
        "            x = np.arange(0, 200, 0.01)\n",
        "            y = func(x)\n",
        "            self.__ret__ = y\n",
        "            for iter in range(self.__ret__.size-2, -1, -1):\n",
        "                self.__ret__[iter] = self.__ret__[iter] + self.__ret__[iter+1]\n",
        "            self.__ret__ = self.__ret__ * 0.01\n",
        "        def value(self, x):\n",
        "            x = x / 0.01\n",
        "            x = x.astype(int)\n",
        "            return self.__ret__[x]\n",
        "    def __init__(self):\n",
        "        pass\n",
        "    def __plot_ROC__(self, alpha, beta, title=''):\n",
        "        x = np.arange(self.__MIN__(), self.__MAX__(), self.__minimum_interval__())\n",
        "        x = np.flip(x)\n",
        "        z1 = alpha(x)\n",
        "        z2 = beta(x)\n",
        "        plt.plot(z1, z2)\n",
        "        plt.plot(title)\n",
        "        plt.show()\n",
        "    def __plot_correct__(self):\n",
        "        d = np.arange(0, 10.0, self.__minimum_interval__())\n",
        "        std_normal = self.Gaussian(mean=0.0, stdd=1.0)\n",
        "        erfc_d = np.zeros(d.size)\n",
        "        for (index, value) in enumerate(d):\n",
        "            erfc_d[index] = sqrt(2.0)*2*self.G_int(std_normal, -value/2, self.__MAX__())\n",
        "        plt.plot(d, erfc_d)\n",
        "        plt.title('P[correct]')\n",
        "        plt.show()\n",
        "    def __process__(self):\n",
        "        self.__plot_correct__()\n",
        "        for d in range(0, 10, 1):\n",
        "            alpha = self.ERFC(self.Gaussian(mean=20, stdd=10.0))\n",
        "            beta = self.ERFC(self.Gaussian(mean=20+d, stdd=10.0))\n",
        "            self.__plot_ROC__(alpha, beta, 'd=%d'%d)\n",
        "    def __call__(self):\n",
        "        self.__process__()\n",
        "\n",
        "W2 = P2()\n",
        "W2()"
      ],
      "execution_count": null,
      "outputs": [
        {
          "output_type": "display_data",
          "data": {
            "image/png": "[encoded data removed]",
            "text/plain": [
              "<Figure size 432x288 with 1 Axes>"
            ]
          },
          "metadata": {
            "tags": [],
            "needs_background": "light"
          }
        },
        {
          "output_type": "display_data",
          "data": {
            "image/png": "[encoded data removed]",
            "text/plain": [
              "<Figure size 432x288 with 1 Axes>"
            ]
          },
          "metadata": {
            "tags": [],
            "needs_background": "light"
          }
        },
        {
          "output_type": "display_data",
          "data": {
            "image/png": "[encoded data removed]",
            "text/plain": [
              "<Figure size 432x288 with 1 Axes>"
            ]
          },
          "metadata": {
            "tags": [],
            "needs_background": "light"
          }
        },
        {
          "output_type": "display_data",
          "data": {
            "image/png": "[encoded data removed]",
            "text/plain": [
              "<Figure size 432x288 with 1 Axes>"
            ]
          },
          "metadata": {
            "tags": [],
            "needs_background": "light"
          }
        },
        {
          "output_type": "display_data",
          "data": {
            "image/png": "[encoded data removed]",
            "text/plain": [
              "<Figure size 432x288 with 1 Axes>"
            ]
          },
          "metadata": {
            "tags": [],
            "needs_background": "light"
          }
        },
        {
          "output_type": "display_data",
          "data": {
            "image/png": "[encoded data removed]",
            "text/plain": [
              "<Figure size 432x288 with 1 Axes>"
            ]
          },
          "metadata": {
            "tags": [],
            "needs_background": "light"
          }
        },
        {
          "output_type": "display_data",
          "data": {
            "image/png": "[encoded data removed]",
            "text/plain": [
              "<Figure size 432x288 with 1 Axes>"
            ]
          },
          "metadata": {
            "tags": [],
            "needs_background": "light"
          }
        },
        {
          "output_type": "display_data",
          "data": {
            "image/png": "[encoded data removed]",
            "text/plain": [
              "<Figure size 432x288 with 1 Axes>"
            ]
          },
          "metadata": {
            "tags": [],
            "needs_background": "light"
          }
        },
        {
          "output_type": "display_data",
          "data": {
            "image/png": "[encoded data removed]",
            "text/plain": [
              "<Figure size 432x288 with 1 Axes>"
            ]
          },
          "metadata": {
            "tags": [],
            "needs_background": "light"
          }
        },
        {
          "output_type": "display_data",
          "data": {
            "image/png": "[encoded data removed]",
            "text/plain": [
              "<Figure size 432x288 with 1 Axes>"
            ]
          },
          "metadata": {
            "tags": [],
            "needs_background": "light"
          }
        },
        {
          "output_type": "display_data",
          "data": {
            "image/png": "[encoded data removed]",
            "text/plain": [
              "<Figure size 432x288 with 1 Axes>"
            ]
          },
          "metadata": {
            "tags": [],
            "needs_background": "light"
          }
        }
      ]
    },
    {
      "cell_type": "markdown",
      "metadata": {
        "id": "wQ6NM-5PnKWe"
      },
      "source": [
        "# Problem 3\n",
        "\n",
        "Simulate the responses of four interneurons in the cercal system of the cricket and check the accuracy of a vector decoding scheme. For a true wind direction \\\\(\\theta\\\\)\u0012, the average firing rates of the four interneurons should be generated as\n",
        "\n",
        "\\\\(\\langle r_i\\rangle=[50\\text{Hz}\\cos(\\theta-\\theta_i)]_+\\\\)\n",
        "\n",
        "where \\\\(\\theta_i=\\pi/4,3\\pi/4,5\\pi/4,7\\pi/4\\\\) for \\\\(i=1,2,3,4\\\\). The actual rates, \\\\(r_i\\\\), are then obtained by adding to these mean rates a random number chosen from a Gaussian distribution with zero mean and a standard deviation of \\\\(5\\text{Hz}\\\\) (set any rates the come out negative to zero).\n",
        "\n",
        "From these rates, construct the \\\\(x\\\\) and \\\\(y\\\\) components of the population vector\n",
        "\n",
        "\\\\(x=\\sum_{i=1}^4r_i\\cos\\theta_i\\\\) and \\\\(y=\\sum_{i=1}^4r_i\\sin\\theta_i\\\\)\n",
        "\n",
        "and, from the direction of this vector, compute an estimate \u0012est of the wind direction.\n",
        "\n",
        "Average the squared difference \\\\((\\theta-\\theta_\\text{\u0012est})^2\\\\) over 1000 trials.\n",
        "\n",
        "The square root of of this quantity is the error. Plot the error as a function of \\\\(\\theta\\\\)\u0012 over the range \\\\(-90^\\circ\\leq\\theta\\leq 90^\\circ\\\\).\n",
        "\n",
        "Trivial, omit it.\n"
      ]
    },
    {
      "cell_type": "markdown",
      "metadata": {
        "id": "tXYNKbLWoqk1"
      },
      "source": [
        "# Problem 4\n",
        "\n",
        "Show that if an infinite number of unit vectors \\\\(\\vec{c}_a\\\\) is chosen uniformly from a probability distribution that is independent of direction,\\\\(\\sum(\\vec{v}\\cdot\\vec{c}_a)\\vec{c}_a\\propto\\vec{v}\\\\) for any vector \\\\(\\vec{v}\\\\). How does the sum approach this limit for a finite number of terms?\n"
      ]
    },
    {
      "cell_type": "markdown",
      "metadata": {
        "id": "5_UCMZCGfZqY"
      },
      "source": [
        "# Solution 4\n",
        "\n",
        "Suppose that \\\\(\\vec{v}\\\\) is a unit vector with azimuth \\\\(\\phi\\\\).\n",
        "\n",
        "\\\\(\\int_0^{2\\pi}d\\theta\\ \\cos(\\theta-\\phi)(\\cos\\theta,\\sin\\theta)=\\frac{1}{2}(\\cos\\theta,\\sin\\theta)\\\\)"
      ]
    },
    {
      "cell_type": "markdown",
      "metadata": {
        "id": "ebrSxgeRpa4c"
      },
      "source": [
        "# Problem 5\n",
        "\n",
        "Show that the Bayesian estimator that minimizes the expected average value of the the loss function \\\\(L(s, s_\\text{bayes})=(s-s_\\text{bayes})^2\\\\) is the mean of the distribution \\\\(p[s|r]\\\\), given by equation\n",
        "\n",
        "\\\\(s_\\text{bayes}=\\int ds\\ p[s|r]s\\\\)(3.27).\n",
        "\n",
        "Also show that the estimate that arises from minimizing the expected loss function \\\\(L(s, s_\\text{bayes})=|s-s_\\text{bayes}|\\\\) is the median of \\\\(p[s|r]\\\\).\n"
      ]
    },
    {
      "cell_type": "markdown",
      "metadata": {
        "id": "jSnKbbvVxjFR"
      },
      "source": [
        "# Solution 5\n",
        "\n",
        "\\\\(\\int ds\\ p[s|r][(s-s_\\text{bayes})^2]'=\\int ds\\ p[s|r](-2s+2s_\\text{bayes})=0\\\\)\n",
        "\n",
        "\\\\(\\int ds\\ p[s|r]|s-s_\\text{bayes}|=\\int_{s_\\text{bayes}>s} ds\\ p[s|r](-s+s_\\text{bayes})+\\int_{s_\\text{bayes}< s} ds\\ p[s|r](s-s_\\text{bayes})=0\\\\)\n",
        "\n",
        "The derivative of the second expression is\n",
        "\n",
        "\\\\(\\int_{s_\\text{bayes}>s} ds\\ p[s|r]-\\int_{s_\\text{bayes}< s} ds\\ p[s|r]=0\\\\)"
      ]
    },
    {
      "cell_type": "markdown",
      "metadata": {
        "id": "9uXPIVoqqHhz"
      },
      "source": [
        "# Problem 6\n",
        "\n",
        "Show that the equations for the Fisher information in equation (3.42) can also be written as in equation (3.43),\n",
        "\n",
        "\\\\(I_F(s)=\\langle-\\frac{\\partial^2\\ln p[r|s]}{\\partial s^2}\\rangle\\\\)\n",
        "\n",
        "\\\\(I_F(s)=\\langle\\left(\\frac{\\partial\\ln p[r|s]}{\\partial s}\\right)^2\\rangle\\\\)\n",
        "\n",
        "Use the fact that \\\\(\\int dr\\ p[r|s]=1\\\\).\n",
        "\n"
      ]
    },
    {
      "cell_type": "markdown",
      "metadata": {
        "id": "DuanZOLA0aKX"
      },
      "source": [
        "# Solution 6\n",
        "\n",
        "\\\\(\\langle\\left(\\frac{\\partial\\ln p[r|s]}{\\partial s}\\right)^2\\rangle\\\\)\n",
        "\n",
        "\\\\(=\\langle\\left(\\frac{\\partial p[r|s]/\\partial s}{p[r|s]}\\right)^2\\rangle\\\\)\n",
        "\n",
        "\\\\(=\\int dr\\ p[r|s]\\frac{(\\partial p[r|s]/\\partial s)^2}{p[r|s]^2}\\\\)\n",
        "\n",
        "Bacause\n",
        "\n",
        "\\\\(\\int dr\\ p[r|s]\\frac{(\\partial^2 p[r|s]/\\partial s^2)p[r|s]}{p[r|s]^2}\\\\)\n",
        "\n",
        "\\\\(=\\int dr\\frac{\\partial^2 p[r|s]}{\\partial s^2}\\\\)\n",
        "\n",
        "\\\\(=\\frac{\\partial^2 \\int dr\\ p[r|s]}{\\partial s^2}=0\\\\)\n",
        "\n",
        "We deduce the result that\n",
        "\n",
        "\\\\(\\int dr\\ p[r|s]\\frac{\\partial^2\\ln p[r|s]}{\\partial s^2}\\\\)\n",
        "\n",
        "\\\\(=\\int dr\\ p[r|s]\\frac{p''[r|s]p[r|s]-p'[r|s]^2}{p[r|s]^2}\\\\)\n",
        "\n",
        "\\\\(=\\int dr\\ p[r|s]\\frac{-p'[r|s]^2}{p[r|s]^2}\\\\)\n",
        "\n",
        "\\\\(=-\\int dr\\ p[r|s]\\frac{(\\partial p[r|s]/\\partial s)^2}{p[r|s]^2}\\\\)"
      ]
    },
    {
      "cell_type": "markdown",
      "metadata": {
        "id": "l1j0_Ym3rGQg"
      },
      "source": [
        "# Problem 7\n",
        "\n",
        "The discriminability for the variable \\\\(Z\\\\) defined in equation\n",
        "\n",
        "\\\\(Z(r)=\\frac{\\partial\\ln p[r|s]}{\\partial s}\\\\)(3.19)\n",
        "\n",
        "is the difference between the average \\\\(Z\\\\) values for the two stimuli \\\\(s+\\Delta s\\\\) and \\\\(s\\\\) divided by the standard deviation of \\\\(Z\\\\). The average of the difference in \\\\(Z\\\\) values is\n",
        "\n",
        "\\\\(\\langle\\Delta Z\\rangle=\\int dr\\ \\frac{\\partial\\ln p[r|s]}{\\partial s}(p[r|s+\\Delta s]-p[r|s])\\\\)\n",
        "\n",
        "Show that for small \\\\(\\Delta s\\\\), \\\\(\\langle\\Delta Z\\rangle=I_F(s)\\Delta s\\\\). Also prove that the average value of Z,\n",
        "\n",
        "\\\\(\\langle Z\\rangle=\\int dr\\ p[r|s]\\frac{\\partial\\ln p[r|s]}{\\partial s}\\\\)\n",
        "\n",
        "is zero, and that the variance of \\\\(Z\\\\) is \\\\(I_F(s)\\\\). Computing the ratio, \n",
        "we find from these results that \\\\(d'=\\Delta \u0001s\\sqrt{I_F(s)}\\\\) which matches the discriminability (3.49) of the ML estimator.\n",
        "\n",
        "\n"
      ]
    },
    {
      "cell_type": "markdown",
      "metadata": {
        "id": "eLOIu92shIBu"
      },
      "source": [
        "# Solution 7\n",
        "\n",
        "As \\\\(\\Delta s\\\\) goes to zero.\n",
        "\n",
        "\\\\(\\langle\\Delta Z\\rangle=\\int dr\\ \\frac{\\partial \\ln p[r|s]}{\\partial s}\\frac{\\partial \\ln p[r|s]}{\\partial s}p[r|s]\\Delta s=\\Delta s I_F(s)\\\\)\n",
        "\n",
        "The average value of \\\\(Z\\\\) is\n",
        "\n",
        "\\\\(\\langle Z\\rangle=\\int dr\\ p[r|s]\\frac{\\partial p[r|s]/\\partial s}{p[r|s]}=0\\\\)\n",
        "\n",
        "The variance of \\\\(Z\\\\) is\n",
        "\n",
        "\\\\(\\sigma^2=\\int dr\\ p[r|s]\\left(\\frac{\\partial p[r|s]}{\\partial s}\\right)^2\\\\)\n"
      ]
    },
    {
      "cell_type": "markdown",
      "metadata": {
        "id": "7ISAi2SyspHX"
      },
      "source": [
        "# Problem 8\n",
        "\n",
        "Extend equation \n",
        "\n",
        "\\\\(I_F(s)=T\\sum_{a=1}^N\\frac{r_\\text{max}(s-s_a)^2}{\\sigma^4_r}\\exp\\left(-\\frac{1}{2}\\left(\\frac{s-s_a}{\\sigma_r}\\right)^2\\right)\\\\)(3.46)\n",
        "\n",
        "to the case of neurons encoding a D-dimensional vector stimulus \\\\(\\vec{s}\\\\) with tuning curves given by\n",
        "\n",
        "\\\\(f_a(\\vec{s})=r_\\text{max}\\exp\\left(-\\frac{|\\vec{s}-\\vec{s}_a|^2}{2\\sigma^2_r}\\right)\\\\)\n",
        "\n",
        "and perform the sum by approximating it as an integral over uniformly and densely distributed values of \\\\(\\vec{s}_a\\\\) to derive the result in equation 3.48.\n",
        "\n"
      ]
    },
    {
      "cell_type": "markdown",
      "metadata": {
        "id": "_gtJhrSA1cLh"
      },
      "source": [
        "# Solution 8\n",
        "\n",
        "Suppose that \\\\(\\vec{s}_a\\\\) is uniformly distributed\n",
        "\n",
        "\\\\(I_F(s)=T\\sum_{a=1}^N\\frac{(f'_a(s))^2}{f_a(s)}\\\\)\n",
        "\n",
        "\\\\(=T\\sum_{a=1}^N r_\\text{max}\\frac{(\\partial\\exp(-|\\vec{s}-\\vec{s}_a|^2/2\\sigma^2_r)/\\partial s)^2}{\\exp(-|\\vec{s}-\\vec{s}_a|/2\\sigma^2_r)}\\\\)\n",
        "\n",
        "\\\\(=T\\sum_{a=1}^N\\frac{r_\\text{max}\\sum_{k=1}^D(s^{(k)}-s_a^{(k)})^2}{D^2\\sigma^4_r}\\exp\\left(-\\frac{1}{2}\\frac{\\sum_{k=1}^D(s^{(k)}-s_a^{(k)})^2}{\\sigma_r^2}\\right)\\\\)\n",
        "\n",
        "\\\\(\\approx T\\int_{-\\infty}^{\\infty}ds_a^{(1)}\\cdots\\int_{-\\infty}^{\\infty}ds_a^{(D)}\\ \\frac{r_\\text{max}\\sum_{k=1}^D(s^{(k)}-s_a^{(k)})^2}{D^2\\sigma^4_r}\\prod_{k=1}^D\\exp\\left(-\\frac{1}{2}\\frac{(s^{(k)}-s_a^{(k)})^2}{\\sigma_r^2}\\right)\\\\)\n",
        "\n",
        "\\\\(\\approx T\\int_{-\\infty}^{\\infty}ds_a^{(1)}\\cdots\\int_{-\\infty}^{\\infty}ds_a^{(D-1)}\\ \\prod_{k=1}^{D-1}\\exp\\left(-\\frac{1}{2}\\frac{(s^{(k)}-s_a^{(k)})^2}{\\sigma_r^2}\\right)\\left(\\frac{\\sqrt{2\\pi}\\rho_s\\sigma_rr_\\text{max}T}{D^2\\sigma^2_r}+\\frac{r_\\text{max}\\sum_{k=1}^{D-1}(s^{(k)}-s_a^{(k)})^2}{D^2\\sigma^4_r}\\sqrt{2\\pi}\\sigma_r\\right)\\\\)\n",
        "\n",
        "\\\\(\\approx\\frac{D(\\sqrt{2\\pi}\\sigma_r)^D\\rho_sr_\\text{max}T}{D^2\\sigma_r^2}\\\\)"
      ]
    },
    {
      "cell_type": "markdown",
      "metadata": {
        "id": "vCg6ZNietGZm"
      },
      "source": [
        "# Problem 9\n",
        "\n",
        "Derive equation 3.54 by minimizing the expression 3.53. Use the methods of appendix A of chapter 2.\n",
        "\n",
        "Trivial, omit it."
      ]
    },
    {
      "cell_type": "markdown",
      "metadata": {
        "id": "DNUxJh__tKRK"
      },
      "source": [
        "# Problem 10\n",
        "Fourier transform exercise with a relatively complex code, omit it."
      ]
    }
  ]
}